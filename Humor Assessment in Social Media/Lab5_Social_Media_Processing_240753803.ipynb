{
  "cells": [
    {
      "cell_type": "markdown",
      "metadata": {
        "id": "2TvyemfDlDmu"
      },
      "source": [
        "# Social Media Processing\n",
        "\n",
        "This notebook shows how to use HuggingFace's package to import and train regression models to assess humor rating in social media posts in English (SemEval2021: HaHackathon: Detecting and Rating Humor and Offense https://competitions.codalab.org/competitions/27446, **Task-1b**).\n",
        "\n",
        "Detection of humour, especially in social media posts, poses a linguistic challenge to NLP, due to the noise, figurative language, contextuality and subjectivity. You will hence try different methods to address those challenges such as preprocessing, data augmentation, ensembling and multi-task learning.\n",
        "\n",
        "We will download and unzip the data from here: http://smash.inf.ed.ac.uk/hahackathon_data/hahackathon_data.zip.\n",
        "\n",
        "\n",
        "We recommend you to do this lab on a Colab GPU provided by Google."
      ]
    },
    {
      "cell_type": "code",
      "execution_count": 7,
      "metadata": {
        "id": "Vkzoj2bRu3Ky",
        "colab": {
          "base_uri": "https://localhost:8080/"
        },
        "outputId": "9e800ce3-fe73-4ec6-d983-e89b1a3e08c7"
      },
      "outputs": [
        {
          "output_type": "stream",
          "name": "stdout",
          "text": [
            "--2025-03-17 03:32:36--  http://smash.inf.ed.ac.uk/hahackathon_data/hahackathon_data.zip\n",
            "Resolving smash.inf.ed.ac.uk (smash.inf.ed.ac.uk)... 129.215.10.97\n",
            "Connecting to smash.inf.ed.ac.uk (smash.inf.ed.ac.uk)|129.215.10.97|:80... connected.\n",
            "HTTP request sent, awaiting response... 200 OK\n",
            "Length: 571603 (558K) [application/zip]\n",
            "Saving to: ‘hahackathon_data.zip’\n",
            "\n",
            "hahackathon_data.zi 100%[===================>] 558.21K   810KB/s    in 0.7s    \n",
            "\n",
            "2025-03-17 03:32:37 (810 KB/s) - ‘hahackathon_data.zip’ saved [571603/571603]\n",
            "\n",
            "Archive:  /content/hahackathon_data.zip\n",
            "   creating: hahackathon data/\n",
            "  inflating: hahackathon data/.DS_Store  \n",
            "  inflating: hahackathon data/test.csv  \n",
            "  inflating: hahackathon data/dev.csv  \n",
            "  inflating: hahackathon data/train.csv  \n"
          ]
        }
      ],
      "source": [
        "!wget http://smash.inf.ed.ac.uk/hahackathon_data/hahackathon_data.zip\n",
        "!unzip '/content/hahackathon_data.zip' -x __MACOSX/*"
      ]
    },
    {
      "cell_type": "markdown",
      "metadata": {
        "id": "aa3hj8h05WZL"
      },
      "source": [
        "First, we need to install Hugging Face [transformers](https://huggingface.co/transformers/index.html) and [Sentence piece Tokenizers](https://github.com/google/sentencepiece), as well as some helper libraries, with the following commands."
      ]
    },
    {
      "cell_type": "code",
      "execution_count": 8,
      "metadata": {
        "id": "modern-olympus",
        "colab": {
          "base_uri": "https://localhost:8080/"
        },
        "outputId": "dae608f6-4c70-4f46-b3e6-c5d82294f9e2"
      },
      "outputs": [
        {
          "output_type": "stream",
          "name": "stdout",
          "text": [
            "Enabling notebook extension jupyter-js-widgets/extension...\n",
            "Paths used for configuration of notebook: \n",
            "    \t/root/.jupyter/nbconfig/notebook.json\n",
            "Paths used for configuration of notebook: \n",
            "    \t\n",
            "      - Validating: \u001b[32mOK\u001b[0m\n",
            "Paths used for configuration of notebook: \n",
            "    \t/root/.jupyter/nbconfig/notebook.json\n"
          ]
        }
      ],
      "source": [
        "!pip install -q transformers\n",
        "!pip install -q sentencepiece\n",
        "!pip install -q  ipywidgets\n",
        "!jupyter nbextension enable --py widgetsnbextension"
      ]
    },
    {
      "cell_type": "code",
      "execution_count": 9,
      "metadata": {
        "id": "85fRpTxP-W8L"
      },
      "outputs": [],
      "source": [
        "import numpy as np\n",
        "import random\n",
        "import matplotlib.pyplot as plt\n",
        "\n",
        "import torch\n",
        "import torch.nn as nn\n",
        "from transformers import DistilBertTokenizer, DistilBertModel, AdamW\n",
        "from torch.utils.data import Dataset, DataLoader"
      ]
    },
    {
      "cell_type": "markdown",
      "metadata": {
        "id": "yLbYtQNndziN"
      },
      "source": [
        "We define the fix seed method to be able to introduce variety into ensembling models."
      ]
    },
    {
      "cell_type": "code",
      "execution_count": 10,
      "metadata": {
        "id": "CedBVCKMyq9d"
      },
      "outputs": [],
      "source": [
        "# Set random seed for reproducibility\n",
        "def set_random_seed(seed=123):\n",
        "    random.seed(seed)\n",
        "    np.random.seed(seed)\n",
        "    torch.manual_seed(seed)\n",
        "    torch.cuda.manual_seed_all(seed)\n",
        "\n",
        "set_random_seed()"
      ]
    },
    {
      "cell_type": "markdown",
      "metadata": {
        "id": "Zj_jHh2-ggC3"
      },
      "source": [
        "## Regression with BERT\n",
        "\n",
        "We will use the [DistilBert](https://arxiv.org/abs/1910.01108v4) model and its Tokeniser following the preprocessing code from Lab on Aspect-Based Sentiment Analysis."
      ]
    },
    {
      "cell_type": "code",
      "execution_count": 11,
      "metadata": {
        "id": "ySbyGAsF-tNH"
      },
      "outputs": [],
      "source": [
        "import tqdm\n",
        "\n",
        "# Constants\n",
        "PAD_LENGTH = 128\n",
        "BATCH_SIZE = 256\n",
        "EPOCHS = 5\n",
        "bert_model = 'distilbert-base-uncased'\n",
        "\n",
        "# Tokenizer\n",
        "tokenizer = DistilBertTokenizer.from_pretrained(bert_model, do_lower_case=True, max_length=PAD_LENGTH, padding='max_length', truncation=True)\n",
        "\n",
        "def tokenize(sentences, tokenizer, pad_length=PAD_LENGTH, pad_to_max_length=True):\n",
        "    if type(sentences) == str:\n",
        "        inputs = tokenizer.encode_plus(sentences, add_special_tokens=True, max_length=pad_length, pad_to_max_length=pad_to_max_length,\n",
        "                                             return_attention_mask=True, return_token_type_ids=True)\n",
        "        return inputs['input_ids'], inputs['attention_mask'], inputs['token_type_ids']\n",
        "\n",
        "    input_ids, input_masks, input_segments = [],[],[]\n",
        "    for sentence in sentences:\n",
        "        inputs = tokenizer.encode_plus(sentence, add_special_tokens=True, max_length=pad_length, pad_to_max_length=pad_to_max_length,\n",
        "                                             return_attention_mask=True, return_token_type_ids=True)\n",
        "        input_ids.append(inputs['input_ids'])\n",
        "        input_masks.append(inputs['attention_mask'])\n",
        "        input_segments.append(inputs['token_type_ids'])\n",
        "    return input_ids, input_masks, input_segments\n"
      ]
    },
    {
      "cell_type": "markdown",
      "metadata": {
        "id": "WaEJpImWjBdB"
      },
      "source": [
        "Let's read the data using Pandas."
      ]
    },
    {
      "cell_type": "code",
      "execution_count": 12,
      "metadata": {
        "id": "7kHK7eTIBAbk"
      },
      "outputs": [],
      "source": [
        "import pandas as pd\n",
        "\n",
        "# Load data with only the necessary columns\n",
        "train_df = pd.read_csv('hahackathon data/train.csv', usecols = ['text','humor_rating','offense_rating'])\n",
        "dev_df = pd.read_csv('hahackathon data/dev.csv', usecols = ['text','humor_rating','offense_rating'])\n",
        "test_df = pd.read_csv('hahackathon data/test.csv', usecols = ['text','humor_rating','offense_rating'])\n",
        "\n",
        "# Drop the Nans\n",
        "train_df = train_df.dropna()\n",
        "dev_df = dev_df.dropna()\n",
        "test_df = test_df.dropna()"
      ]
    },
    {
      "cell_type": "markdown",
      "metadata": {
        "id": "x54kpiRejuQd"
      },
      "source": [
        "Let's check a couple of examples."
      ]
    },
    {
      "cell_type": "code",
      "execution_count": 13,
      "metadata": {
        "id": "GRSqyozoERV7",
        "colab": {
          "base_uri": "https://localhost:8080/",
          "height": 563
        },
        "outputId": "93094bc2-46e9-4f13-a76c-ca1aed0e0856"
      },
      "outputs": [
        {
          "output_type": "execute_result",
          "data": {
            "text/plain": [
              "                                                   text  humor_rating  \\\n",
              "0     TENNESSEE: We're the best state. Nobody even c...          2.42   \n",
              "1     A man inserted an advertisement in the classif...          2.50   \n",
              "2     How many men does it take to open a can of bee...          1.95   \n",
              "3     Told my mom I hit 1200 Twitter followers. She ...          2.11   \n",
              "4     Roses are dead. Love is fake. Weddings are bas...          2.78   \n",
              "...                                                 ...           ...   \n",
              "7991  Sins are like viruses, it's better you keep th...          2.13   \n",
              "7993  My daughter wanted a Cinderella themed birthda...          3.70   \n",
              "7996    Why are aspirins white? Because they work sorry          1.33   \n",
              "7997  Today, we Americans celebrate our independence...          2.55   \n",
              "7998  How to keep the flies off the bride at an Ital...          1.00   \n",
              "\n",
              "      offense_rating  \n",
              "0               0.20  \n",
              "1               1.10  \n",
              "2               2.40  \n",
              "3               0.00  \n",
              "4               0.10  \n",
              "...              ...  \n",
              "7991            0.10  \n",
              "7993            0.00  \n",
              "7996            3.85  \n",
              "7997            0.00  \n",
              "7998            3.00  \n",
              "\n",
              "[4932 rows x 3 columns]"
            ],
            "text/html": [
              "\n",
              "  <div id=\"df-3298f980-80e3-43c2-9148-e7614b92e9ae\" class=\"colab-df-container\">\n",
              "    <div>\n",
              "<style scoped>\n",
              "    .dataframe tbody tr th:only-of-type {\n",
              "        vertical-align: middle;\n",
              "    }\n",
              "\n",
              "    .dataframe tbody tr th {\n",
              "        vertical-align: top;\n",
              "    }\n",
              "\n",
              "    .dataframe thead th {\n",
              "        text-align: right;\n",
              "    }\n",
              "</style>\n",
              "<table border=\"1\" class=\"dataframe\">\n",
              "  <thead>\n",
              "    <tr style=\"text-align: right;\">\n",
              "      <th></th>\n",
              "      <th>text</th>\n",
              "      <th>humor_rating</th>\n",
              "      <th>offense_rating</th>\n",
              "    </tr>\n",
              "  </thead>\n",
              "  <tbody>\n",
              "    <tr>\n",
              "      <th>0</th>\n",
              "      <td>TENNESSEE: We're the best state. Nobody even c...</td>\n",
              "      <td>2.42</td>\n",
              "      <td>0.20</td>\n",
              "    </tr>\n",
              "    <tr>\n",
              "      <th>1</th>\n",
              "      <td>A man inserted an advertisement in the classif...</td>\n",
              "      <td>2.50</td>\n",
              "      <td>1.10</td>\n",
              "    </tr>\n",
              "    <tr>\n",
              "      <th>2</th>\n",
              "      <td>How many men does it take to open a can of bee...</td>\n",
              "      <td>1.95</td>\n",
              "      <td>2.40</td>\n",
              "    </tr>\n",
              "    <tr>\n",
              "      <th>3</th>\n",
              "      <td>Told my mom I hit 1200 Twitter followers. She ...</td>\n",
              "      <td>2.11</td>\n",
              "      <td>0.00</td>\n",
              "    </tr>\n",
              "    <tr>\n",
              "      <th>4</th>\n",
              "      <td>Roses are dead. Love is fake. Weddings are bas...</td>\n",
              "      <td>2.78</td>\n",
              "      <td>0.10</td>\n",
              "    </tr>\n",
              "    <tr>\n",
              "      <th>...</th>\n",
              "      <td>...</td>\n",
              "      <td>...</td>\n",
              "      <td>...</td>\n",
              "    </tr>\n",
              "    <tr>\n",
              "      <th>7991</th>\n",
              "      <td>Sins are like viruses, it's better you keep th...</td>\n",
              "      <td>2.13</td>\n",
              "      <td>0.10</td>\n",
              "    </tr>\n",
              "    <tr>\n",
              "      <th>7993</th>\n",
              "      <td>My daughter wanted a Cinderella themed birthda...</td>\n",
              "      <td>3.70</td>\n",
              "      <td>0.00</td>\n",
              "    </tr>\n",
              "    <tr>\n",
              "      <th>7996</th>\n",
              "      <td>Why are aspirins white? Because they work sorry</td>\n",
              "      <td>1.33</td>\n",
              "      <td>3.85</td>\n",
              "    </tr>\n",
              "    <tr>\n",
              "      <th>7997</th>\n",
              "      <td>Today, we Americans celebrate our independence...</td>\n",
              "      <td>2.55</td>\n",
              "      <td>0.00</td>\n",
              "    </tr>\n",
              "    <tr>\n",
              "      <th>7998</th>\n",
              "      <td>How to keep the flies off the bride at an Ital...</td>\n",
              "      <td>1.00</td>\n",
              "      <td>3.00</td>\n",
              "    </tr>\n",
              "  </tbody>\n",
              "</table>\n",
              "<p>4932 rows × 3 columns</p>\n",
              "</div>\n",
              "    <div class=\"colab-df-buttons\">\n",
              "\n",
              "  <div class=\"colab-df-container\">\n",
              "    <button class=\"colab-df-convert\" onclick=\"convertToInteractive('df-3298f980-80e3-43c2-9148-e7614b92e9ae')\"\n",
              "            title=\"Convert this dataframe to an interactive table.\"\n",
              "            style=\"display:none;\">\n",
              "\n",
              "  <svg xmlns=\"http://www.w3.org/2000/svg\" height=\"24px\" viewBox=\"0 -960 960 960\">\n",
              "    <path d=\"M120-120v-720h720v720H120Zm60-500h600v-160H180v160Zm220 220h160v-160H400v160Zm0 220h160v-160H400v160ZM180-400h160v-160H180v160Zm440 0h160v-160H620v160ZM180-180h160v-160H180v160Zm440 0h160v-160H620v160Z\"/>\n",
              "  </svg>\n",
              "    </button>\n",
              "\n",
              "  <style>\n",
              "    .colab-df-container {\n",
              "      display:flex;\n",
              "      gap: 12px;\n",
              "    }\n",
              "\n",
              "    .colab-df-convert {\n",
              "      background-color: #E8F0FE;\n",
              "      border: none;\n",
              "      border-radius: 50%;\n",
              "      cursor: pointer;\n",
              "      display: none;\n",
              "      fill: #1967D2;\n",
              "      height: 32px;\n",
              "      padding: 0 0 0 0;\n",
              "      width: 32px;\n",
              "    }\n",
              "\n",
              "    .colab-df-convert:hover {\n",
              "      background-color: #E2EBFA;\n",
              "      box-shadow: 0px 1px 2px rgba(60, 64, 67, 0.3), 0px 1px 3px 1px rgba(60, 64, 67, 0.15);\n",
              "      fill: #174EA6;\n",
              "    }\n",
              "\n",
              "    .colab-df-buttons div {\n",
              "      margin-bottom: 4px;\n",
              "    }\n",
              "\n",
              "    [theme=dark] .colab-df-convert {\n",
              "      background-color: #3B4455;\n",
              "      fill: #D2E3FC;\n",
              "    }\n",
              "\n",
              "    [theme=dark] .colab-df-convert:hover {\n",
              "      background-color: #434B5C;\n",
              "      box-shadow: 0px 1px 3px 1px rgba(0, 0, 0, 0.15);\n",
              "      filter: drop-shadow(0px 1px 2px rgba(0, 0, 0, 0.3));\n",
              "      fill: #FFFFFF;\n",
              "    }\n",
              "  </style>\n",
              "\n",
              "    <script>\n",
              "      const buttonEl =\n",
              "        document.querySelector('#df-3298f980-80e3-43c2-9148-e7614b92e9ae button.colab-df-convert');\n",
              "      buttonEl.style.display =\n",
              "        google.colab.kernel.accessAllowed ? 'block' : 'none';\n",
              "\n",
              "      async function convertToInteractive(key) {\n",
              "        const element = document.querySelector('#df-3298f980-80e3-43c2-9148-e7614b92e9ae');\n",
              "        const dataTable =\n",
              "          await google.colab.kernel.invokeFunction('convertToInteractive',\n",
              "                                                    [key], {});\n",
              "        if (!dataTable) return;\n",
              "\n",
              "        const docLinkHtml = 'Like what you see? Visit the ' +\n",
              "          '<a target=\"_blank\" href=https://colab.research.google.com/notebooks/data_table.ipynb>data table notebook</a>'\n",
              "          + ' to learn more about interactive tables.';\n",
              "        element.innerHTML = '';\n",
              "        dataTable['output_type'] = 'display_data';\n",
              "        await google.colab.output.renderOutput(dataTable, element);\n",
              "        const docLink = document.createElement('div');\n",
              "        docLink.innerHTML = docLinkHtml;\n",
              "        element.appendChild(docLink);\n",
              "      }\n",
              "    </script>\n",
              "  </div>\n",
              "\n",
              "\n",
              "<div id=\"df-bcbc8ff7-e938-495e-9875-1585f346f6f1\">\n",
              "  <button class=\"colab-df-quickchart\" onclick=\"quickchart('df-bcbc8ff7-e938-495e-9875-1585f346f6f1')\"\n",
              "            title=\"Suggest charts\"\n",
              "            style=\"display:none;\">\n",
              "\n",
              "<svg xmlns=\"http://www.w3.org/2000/svg\" height=\"24px\"viewBox=\"0 0 24 24\"\n",
              "     width=\"24px\">\n",
              "    <g>\n",
              "        <path d=\"M19 3H5c-1.1 0-2 .9-2 2v14c0 1.1.9 2 2 2h14c1.1 0 2-.9 2-2V5c0-1.1-.9-2-2-2zM9 17H7v-7h2v7zm4 0h-2V7h2v10zm4 0h-2v-4h2v4z\"/>\n",
              "    </g>\n",
              "</svg>\n",
              "  </button>\n",
              "\n",
              "<style>\n",
              "  .colab-df-quickchart {\n",
              "      --bg-color: #E8F0FE;\n",
              "      --fill-color: #1967D2;\n",
              "      --hover-bg-color: #E2EBFA;\n",
              "      --hover-fill-color: #174EA6;\n",
              "      --disabled-fill-color: #AAA;\n",
              "      --disabled-bg-color: #DDD;\n",
              "  }\n",
              "\n",
              "  [theme=dark] .colab-df-quickchart {\n",
              "      --bg-color: #3B4455;\n",
              "      --fill-color: #D2E3FC;\n",
              "      --hover-bg-color: #434B5C;\n",
              "      --hover-fill-color: #FFFFFF;\n",
              "      --disabled-bg-color: #3B4455;\n",
              "      --disabled-fill-color: #666;\n",
              "  }\n",
              "\n",
              "  .colab-df-quickchart {\n",
              "    background-color: var(--bg-color);\n",
              "    border: none;\n",
              "    border-radius: 50%;\n",
              "    cursor: pointer;\n",
              "    display: none;\n",
              "    fill: var(--fill-color);\n",
              "    height: 32px;\n",
              "    padding: 0;\n",
              "    width: 32px;\n",
              "  }\n",
              "\n",
              "  .colab-df-quickchart:hover {\n",
              "    background-color: var(--hover-bg-color);\n",
              "    box-shadow: 0 1px 2px rgba(60, 64, 67, 0.3), 0 1px 3px 1px rgba(60, 64, 67, 0.15);\n",
              "    fill: var(--button-hover-fill-color);\n",
              "  }\n",
              "\n",
              "  .colab-df-quickchart-complete:disabled,\n",
              "  .colab-df-quickchart-complete:disabled:hover {\n",
              "    background-color: var(--disabled-bg-color);\n",
              "    fill: var(--disabled-fill-color);\n",
              "    box-shadow: none;\n",
              "  }\n",
              "\n",
              "  .colab-df-spinner {\n",
              "    border: 2px solid var(--fill-color);\n",
              "    border-color: transparent;\n",
              "    border-bottom-color: var(--fill-color);\n",
              "    animation:\n",
              "      spin 1s steps(1) infinite;\n",
              "  }\n",
              "\n",
              "  @keyframes spin {\n",
              "    0% {\n",
              "      border-color: transparent;\n",
              "      border-bottom-color: var(--fill-color);\n",
              "      border-left-color: var(--fill-color);\n",
              "    }\n",
              "    20% {\n",
              "      border-color: transparent;\n",
              "      border-left-color: var(--fill-color);\n",
              "      border-top-color: var(--fill-color);\n",
              "    }\n",
              "    30% {\n",
              "      border-color: transparent;\n",
              "      border-left-color: var(--fill-color);\n",
              "      border-top-color: var(--fill-color);\n",
              "      border-right-color: var(--fill-color);\n",
              "    }\n",
              "    40% {\n",
              "      border-color: transparent;\n",
              "      border-right-color: var(--fill-color);\n",
              "      border-top-color: var(--fill-color);\n",
              "    }\n",
              "    60% {\n",
              "      border-color: transparent;\n",
              "      border-right-color: var(--fill-color);\n",
              "    }\n",
              "    80% {\n",
              "      border-color: transparent;\n",
              "      border-right-color: var(--fill-color);\n",
              "      border-bottom-color: var(--fill-color);\n",
              "    }\n",
              "    90% {\n",
              "      border-color: transparent;\n",
              "      border-bottom-color: var(--fill-color);\n",
              "    }\n",
              "  }\n",
              "</style>\n",
              "\n",
              "  <script>\n",
              "    async function quickchart(key) {\n",
              "      const quickchartButtonEl =\n",
              "        document.querySelector('#' + key + ' button');\n",
              "      quickchartButtonEl.disabled = true;  // To prevent multiple clicks.\n",
              "      quickchartButtonEl.classList.add('colab-df-spinner');\n",
              "      try {\n",
              "        const charts = await google.colab.kernel.invokeFunction(\n",
              "            'suggestCharts', [key], {});\n",
              "      } catch (error) {\n",
              "        console.error('Error during call to suggestCharts:', error);\n",
              "      }\n",
              "      quickchartButtonEl.classList.remove('colab-df-spinner');\n",
              "      quickchartButtonEl.classList.add('colab-df-quickchart-complete');\n",
              "    }\n",
              "    (() => {\n",
              "      let quickchartButtonEl =\n",
              "        document.querySelector('#df-bcbc8ff7-e938-495e-9875-1585f346f6f1 button');\n",
              "      quickchartButtonEl.style.display =\n",
              "        google.colab.kernel.accessAllowed ? 'block' : 'none';\n",
              "    })();\n",
              "  </script>\n",
              "</div>\n",
              "\n",
              "  <div id=\"id_1ebbdd84-1e8c-4394-b2eb-aa4363f57a59\">\n",
              "    <style>\n",
              "      .colab-df-generate {\n",
              "        background-color: #E8F0FE;\n",
              "        border: none;\n",
              "        border-radius: 50%;\n",
              "        cursor: pointer;\n",
              "        display: none;\n",
              "        fill: #1967D2;\n",
              "        height: 32px;\n",
              "        padding: 0 0 0 0;\n",
              "        width: 32px;\n",
              "      }\n",
              "\n",
              "      .colab-df-generate:hover {\n",
              "        background-color: #E2EBFA;\n",
              "        box-shadow: 0px 1px 2px rgba(60, 64, 67, 0.3), 0px 1px 3px 1px rgba(60, 64, 67, 0.15);\n",
              "        fill: #174EA6;\n",
              "      }\n",
              "\n",
              "      [theme=dark] .colab-df-generate {\n",
              "        background-color: #3B4455;\n",
              "        fill: #D2E3FC;\n",
              "      }\n",
              "\n",
              "      [theme=dark] .colab-df-generate:hover {\n",
              "        background-color: #434B5C;\n",
              "        box-shadow: 0px 1px 3px 1px rgba(0, 0, 0, 0.15);\n",
              "        filter: drop-shadow(0px 1px 2px rgba(0, 0, 0, 0.3));\n",
              "        fill: #FFFFFF;\n",
              "      }\n",
              "    </style>\n",
              "    <button class=\"colab-df-generate\" onclick=\"generateWithVariable('train_df')\"\n",
              "            title=\"Generate code using this dataframe.\"\n",
              "            style=\"display:none;\">\n",
              "\n",
              "  <svg xmlns=\"http://www.w3.org/2000/svg\" height=\"24px\"viewBox=\"0 0 24 24\"\n",
              "       width=\"24px\">\n",
              "    <path d=\"M7,19H8.4L18.45,9,17,7.55,7,17.6ZM5,21V16.75L18.45,3.32a2,2,0,0,1,2.83,0l1.4,1.43a1.91,1.91,0,0,1,.58,1.4,1.91,1.91,0,0,1-.58,1.4L9.25,21ZM18.45,9,17,7.55Zm-12,3A5.31,5.31,0,0,0,4.9,8.1,5.31,5.31,0,0,0,1,6.5,5.31,5.31,0,0,0,4.9,4.9,5.31,5.31,0,0,0,6.5,1,5.31,5.31,0,0,0,8.1,4.9,5.31,5.31,0,0,0,12,6.5,5.46,5.46,0,0,0,6.5,12Z\"/>\n",
              "  </svg>\n",
              "    </button>\n",
              "    <script>\n",
              "      (() => {\n",
              "      const buttonEl =\n",
              "        document.querySelector('#id_1ebbdd84-1e8c-4394-b2eb-aa4363f57a59 button.colab-df-generate');\n",
              "      buttonEl.style.display =\n",
              "        google.colab.kernel.accessAllowed ? 'block' : 'none';\n",
              "\n",
              "      buttonEl.onclick = () => {\n",
              "        google.colab.notebook.generateWithVariable('train_df');\n",
              "      }\n",
              "      })();\n",
              "    </script>\n",
              "  </div>\n",
              "\n",
              "    </div>\n",
              "  </div>\n"
            ],
            "application/vnd.google.colaboratory.intrinsic+json": {
              "type": "dataframe",
              "variable_name": "train_df",
              "summary": "{\n  \"name\": \"train_df\",\n  \"rows\": 4932,\n  \"fields\": [\n    {\n      \"column\": \"text\",\n      \"properties\": {\n        \"dtype\": \"string\",\n        \"num_unique_values\": 4932,\n        \"samples\": [\n          \"So my girlfriend just told me that she needed velocity... Well, her exact words were \\\"time and distance\\\" but I knew what she meant.\",\n          \"When I found out my toaster wasn't waterproof.... I was shocked.\",\n          \"I like when the shoe salesman puts the shoe on for me. I am 85% more likely to buy new shoes if I feel like Cinderella.\"\n        ],\n        \"semantic_type\": \"\",\n        \"description\": \"\"\n      }\n    },\n    {\n      \"column\": \"humor_rating\",\n      \"properties\": {\n        \"dtype\": \"number\",\n        \"std\": 0.5669739397572867,\n        \"min\": 0.1,\n        \"max\": 4.0,\n        \"num_unique_values\": 253,\n        \"samples\": [\n          0.6,\n          2.2,\n          2.15\n        ],\n        \"semantic_type\": \"\",\n        \"description\": \"\"\n      }\n    },\n    {\n      \"column\": \"offense_rating\",\n      \"properties\": {\n        \"dtype\": \"number\",\n        \"std\": 1.1292485025906749,\n        \"min\": 0.0,\n        \"max\": 4.85,\n        \"num_unique_values\": 98,\n        \"samples\": [\n          3.7,\n          2.5,\n          4.8\n        ],\n        \"semantic_type\": \"\",\n        \"description\": \"\"\n      }\n    }\n  ]\n}"
            }
          },
          "metadata": {},
          "execution_count": 13
        }
      ],
      "source": [
        "train_df"
      ]
    },
    {
      "cell_type": "code",
      "execution_count": 14,
      "metadata": {
        "id": "AO-g6KuyBAWG"
      },
      "outputs": [],
      "source": [
        "# Get the post text\n",
        "train_examples_list = train_df['text'].tolist()\n",
        "dev_examples_list = dev_df['text'].tolist()\n",
        "test_examples_list = test_df['text'].tolist()\n",
        "\n",
        "# Get the humour rating for the regression task (we normalise, the values are between 0 and 5)\n",
        "train_targets_list = (train_df['humor_rating']/5).tolist()\n",
        "dev_targets_list = (dev_df['humor_rating']/5).tolist()\n",
        "test_targets_list = (test_df['humor_rating']/5).tolist()"
      ]
    },
    {
      "cell_type": "code",
      "execution_count": 15,
      "metadata": {
        "id": "DTg5t7uvtdkd",
        "colab": {
          "base_uri": "https://localhost:8080/"
        },
        "outputId": "ddd44359-186c-4b9e-bcf4-8d8e926e6163"
      },
      "outputs": [
        {
          "output_type": "stream",
          "name": "stderr",
          "text": [
            "Truncation was not explicitly activated but `max_length` is provided a specific value, please use `truncation=True` to explicitly truncate examples to max length. Defaulting to 'longest_first' truncation strategy. If you encode pairs of sequences (GLUE-style) with the tokenizer you can select this strategy more precisely by providing a specific strategy to `truncation`.\n",
            "/usr/local/lib/python3.11/dist-packages/transformers/tokenization_utils_base.py:2681: FutureWarning: The `pad_to_max_length` argument is deprecated and will be removed in a future version, use `padding=True` or `padding='longest'` to pad to the longest sequence in the batch, or use `padding='max_length'` to pad to a max length. In this case, you can give a specific length with `max_length` (e.g. `max_length=45`) or leave max_length to None to pad to the maximal input size of the model (e.g. 512 for Bert).\n",
            "  warnings.warn(\n"
          ]
        }
      ],
      "source": [
        "def get_bert_inputs(examples_list, targets):\n",
        "  input_ids=list()\n",
        "  attention_masks=list()\n",
        "\n",
        "  bert_inp=tokenize(examples_list, tokenizer)\n",
        "  input_ids = bert_inp[0]\n",
        "  attention_masks = bert_inp[1]\n",
        "\n",
        "  return input_ids, attention_masks, targets\n",
        "\n",
        "train_input_ids, train_attention_masks, train_targets = get_bert_inputs(train_examples_list, train_targets_list)\n",
        "dev_input_ids, dev_attention_masks, dev_targets = get_bert_inputs(dev_examples_list, dev_targets_list)\n",
        "test_input_ids, test_attention_masks, test_targets = get_bert_inputs(test_examples_list, test_targets_list)\n"
      ]
    },
    {
      "cell_type": "markdown",
      "metadata": {
        "id": "7oNjOY4rl6WR"
      },
      "source": [
        "**Task 1: Build a neural bag of words model using DistilBERT embeddings and the sigmoid activation on the output layer for the regression task.**\n",
        "\n",
        "Investigate its performance using the Mean Squared Error (MSE) metric. We will use this metric as the loss function as well. We will also use the Adam optimiser with `learning_rate=2e-5`. This code is already provided.\n",
        "\n",
        "*Hint*: You can reuse the code from Lab on Aspect-Based Sentiment Analysis (Model 2)."
      ]
    },
    {
      "cell_type": "code",
      "execution_count": 16,
      "metadata": {
        "id": "ALw1nMjNKTgn",
        "colab": {
          "base_uri": "https://localhost:8080/",
          "height": 49,
          "referenced_widgets": [
            "8eb5ec9a934d4b46951ff6b0048d2b12",
            "aeaea998ed2d45cbb0dad442d0e03c50",
            "5b4a8dc261364e35b8f57ed3ee112fcd",
            "61a1aab1cdac470292ddb3fdc57b2b97",
            "2818e4094ab54f3b89d886aa638c7301",
            "db7a6e0b421a47ecb503dd53bb400f03",
            "ddf139ddec074c5da4fa7fdb2bdb73d4",
            "72e469b8e8664baba1380f5e92a21759",
            "f43c2139accc43368091d9226644d99f",
            "a2d00b424fbf4993a99c098caa532a31",
            "34e6db0b48154a22ae0bcd3d6cf81bb5"
          ]
        },
        "outputId": "2f8fa5d7-d78b-4537-c801-9eabb33dfc45"
      },
      "outputs": [
        {
          "output_type": "display_data",
          "data": {
            "text/plain": [
              "model.safetensors:   0%|          | 0.00/268M [00:00<?, ?B/s]"
            ],
            "application/vnd.jupyter.widget-view+json": {
              "version_major": 2,
              "version_minor": 0,
              "model_id": "8eb5ec9a934d4b46951ff6b0048d2b12"
            }
          },
          "metadata": {}
        }
      ],
      "source": [
        "class GlobalAveragePooling1DMasked(nn.Module):\n",
        "    def forward(self, x, mask):\n",
        "        mask = mask.unsqueeze(-1).float()\n",
        "        x = x * mask\n",
        "        sum_x = torch.sum(x, dim=1)\n",
        "        sum_mask = torch.sum(mask, dim=1)\n",
        "        return sum_x / sum_mask\n",
        "\n",
        "# Define model\n",
        "class BERTRegressionModel(nn.Module):\n",
        "\n",
        "    def __init__(self, pad_length=128):\n",
        "        super(BERTRegressionModel, self).__init__()\n",
        "        self.bert = DistilBertModel.from_pretrained(bert_model)\n",
        "        self.global_avg_pool = GlobalAveragePooling1DMasked()\n",
        "        self.hidden_layer = nn.Linear(self.bert.config.hidden_size, 16)\n",
        "        self.activation = nn.Sigmoid()\n",
        "        self.output_reg = nn.Linear(16, 1)\n",
        "\n",
        "    def forward(self, input_ids, attention_mask):\n",
        "        \"\"\"\n",
        "        Task 1\n",
        "\n",
        "        Begin\n",
        "        \"\"\"\n",
        "        #extract BERT embeddings\n",
        "        outputs = self.bert(input_ids=input_ids, attention_mask=attention_mask)\n",
        "        last_hidden_state = outputs.last_hidden_state\n",
        "        #global average pooling\n",
        "        pooled_output = self.global_avg_pool(last_hidden_state, attention_mask)\n",
        "        #transform hidden layer\n",
        "        hidden_output = self.hidden_layer(pooled_output)\n",
        "        #sigmoid activation\n",
        "        activated_output = self.activation(hidden_output)\n",
        "        #regression output of shape (batch size, 1)\n",
        "        out_reg = self.output_reg(activated_output)\n",
        "        \"\"\"\n",
        "        End Task 1\n",
        "        \"\"\"\n",
        "\n",
        "        return out_reg\n",
        "\n",
        "\n",
        "model = BERTRegressionModel()"
      ]
    },
    {
      "cell_type": "code",
      "execution_count": 17,
      "metadata": {
        "id": "wpoibWdGQJA-",
        "colab": {
          "base_uri": "https://localhost:8080/"
        },
        "outputId": "90b4ef19-6b30-44fe-a909-7396baa5f0c7"
      },
      "outputs": [
        {
          "output_type": "stream",
          "name": "stdout",
          "text": [
            "BERTRegressionModel(\n",
            "  (bert): DistilBertModel(\n",
            "    (embeddings): Embeddings(\n",
            "      (word_embeddings): Embedding(30522, 768, padding_idx=0)\n",
            "      (position_embeddings): Embedding(512, 768)\n",
            "      (LayerNorm): LayerNorm((768,), eps=1e-12, elementwise_affine=True)\n",
            "      (dropout): Dropout(p=0.1, inplace=False)\n",
            "    )\n",
            "    (transformer): Transformer(\n",
            "      (layer): ModuleList(\n",
            "        (0-5): 6 x TransformerBlock(\n",
            "          (attention): DistilBertSdpaAttention(\n",
            "            (dropout): Dropout(p=0.1, inplace=False)\n",
            "            (q_lin): Linear(in_features=768, out_features=768, bias=True)\n",
            "            (k_lin): Linear(in_features=768, out_features=768, bias=True)\n",
            "            (v_lin): Linear(in_features=768, out_features=768, bias=True)\n",
            "            (out_lin): Linear(in_features=768, out_features=768, bias=True)\n",
            "          )\n",
            "          (sa_layer_norm): LayerNorm((768,), eps=1e-12, elementwise_affine=True)\n",
            "          (ffn): FFN(\n",
            "            (dropout): Dropout(p=0.1, inplace=False)\n",
            "            (lin1): Linear(in_features=768, out_features=3072, bias=True)\n",
            "            (lin2): Linear(in_features=3072, out_features=768, bias=True)\n",
            "            (activation): GELUActivation()\n",
            "          )\n",
            "          (output_layer_norm): LayerNorm((768,), eps=1e-12, elementwise_affine=True)\n",
            "        )\n",
            "      )\n",
            "    )\n",
            "  )\n",
            "  (global_avg_pool): GlobalAveragePooling1DMasked()\n",
            "  (hidden_layer): Linear(in_features=768, out_features=16, bias=True)\n",
            "  (activation): Sigmoid()\n",
            "  (output_reg): Linear(in_features=16, out_features=1, bias=True)\n",
            ")\n"
          ]
        }
      ],
      "source": [
        "print(model)"
      ]
    },
    {
      "cell_type": "code",
      "source": [
        "# Dataset Class\n",
        "class HumorDataset(Dataset):\n",
        "    def __init__(self, input_ids, attention_masks, targets):\n",
        "        self.input_ids = torch.tensor(input_ids)\n",
        "        self.attention_masks = torch.tensor(attention_masks)\n",
        "        self.targets = torch.tensor(targets)\n",
        "\n",
        "    def __len__(self):\n",
        "        return len(self.targets)\n",
        "\n",
        "    def __getitem__(self, idx):\n",
        "        return {\n",
        "            'input_ids': self.input_ids[idx],\n",
        "            'attention_mask': self.attention_masks[idx],\n",
        "            'target': self.targets[idx].float()\n",
        "        }"
      ],
      "metadata": {
        "id": "U9TbQbcWS53y"
      },
      "execution_count": 18,
      "outputs": []
    },
    {
      "cell_type": "code",
      "execution_count": 19,
      "metadata": {
        "id": "FHz1pJyV50cM"
      },
      "outputs": [],
      "source": [
        "# Training setup\n",
        "def train_model(model, train_loader, val_loader, device, epochs=EPOCHS, lr=2e-5):\n",
        "    model.train()\n",
        "    model.to(device)\n",
        "    optimizer = AdamW(model.parameters(), lr=lr)\n",
        "    loss_fn = nn.MSELoss()\n",
        "\n",
        "    for epoch in range(epochs):\n",
        "        model.train()\n",
        "        train_loss = 0.0\n",
        "        for batch in tqdm.tqdm(train_loader, desc=f'Epoch {epoch+1}/{epochs}'):\n",
        "            optimizer.zero_grad()\n",
        "            input_ids = batch['input_ids'].to(device)\n",
        "            attention_mask = batch['attention_mask'].to(device)\n",
        "            targets = batch['target'].to(device)\n",
        "            outputs = model(input_ids, attention_mask)\n",
        "\n",
        "            loss = loss_fn(outputs.squeeze(), targets)\n",
        "            loss.backward()\n",
        "            optimizer.step()\n",
        "            train_loss += loss.item()\n",
        "\n",
        "        model.eval()\n",
        "        val_loss = 0.0\n",
        "        with torch.no_grad():\n",
        "            for batch in val_loader:\n",
        "                input_ids = batch['input_ids'].to(device)\n",
        "                attention_mask = batch['attention_mask'].to(device)\n",
        "                targets = batch['target'].to(device)\n",
        "                outputs = model(input_ids, attention_mask)\n",
        "                loss = loss_fn(outputs.squeeze(), targets)\n",
        "                val_loss += loss.item()\n",
        "\n",
        "        print(f\"Train Loss: {train_loss / len(train_loader):.4f}, Val Loss: {val_loss / len(val_loader):.4f}\")\n"
      ]
    },
    {
      "cell_type": "markdown",
      "metadata": {
        "id": "ILYZoU8bDskk"
      },
      "source": [
        "We evaluate our model on the test set."
      ]
    },
    {
      "cell_type": "code",
      "source": [
        "# Check if CUDA is available\n",
        "device = torch.device('cuda' if torch.cuda.is_available() else 'cpu')"
      ],
      "metadata": {
        "id": "5gxHDE_y8VBB"
      },
      "execution_count": 20,
      "outputs": []
    },
    {
      "cell_type": "code",
      "source": [
        "# Prepare DataLoader\n",
        "train_dataset = HumorDataset(train_input_ids, train_attention_masks, train_targets)\n",
        "dev_dataset = HumorDataset(dev_input_ids, dev_attention_masks, dev_targets)\n",
        "test_dataset = HumorDataset(test_input_ids, test_attention_masks, test_targets)\n",
        "\n",
        "\n",
        "train_loader = DataLoader(train_dataset, batch_size=BATCH_SIZE, shuffle=True)\n",
        "dev_loader = DataLoader(dev_dataset, batch_size=BATCH_SIZE)\n",
        "test_loader = DataLoader(test_dataset, batch_size=BATCH_SIZE)\n",
        "\n",
        "# Instantiate model and train\n",
        "model = BERTRegressionModel()\n",
        "train_model(model, train_loader, dev_loader, device)"
      ],
      "metadata": {
        "id": "FUMWCeJaTLJu",
        "colab": {
          "base_uri": "https://localhost:8080/"
        },
        "outputId": "49c212ee-362d-4795-bcb2-f282dd3345c2"
      },
      "execution_count": 21,
      "outputs": [
        {
          "output_type": "stream",
          "name": "stderr",
          "text": [
            "/usr/local/lib/python3.11/dist-packages/transformers/optimization.py:591: FutureWarning: This implementation of AdamW is deprecated and will be removed in a future version. Use the PyTorch implementation torch.optim.AdamW instead, or set `no_deprecation_warning=True` to disable this warning\n",
            "  warnings.warn(\n",
            "Epoch 1/5: 100%|██████████| 20/20 [00:43<00:00,  2.18s/it]\n"
          ]
        },
        {
          "output_type": "stream",
          "name": "stdout",
          "text": [
            "Train Loss: 0.1714, Val Loss: 0.0135\n"
          ]
        },
        {
          "output_type": "stream",
          "name": "stderr",
          "text": [
            "Epoch 2/5: 100%|██████████| 20/20 [00:46<00:00,  2.30s/it]\n"
          ]
        },
        {
          "output_type": "stream",
          "name": "stdout",
          "text": [
            "Train Loss: 0.0131, Val Loss: 0.0130\n"
          ]
        },
        {
          "output_type": "stream",
          "name": "stderr",
          "text": [
            "Epoch 3/5: 100%|██████████| 20/20 [00:48<00:00,  2.44s/it]\n"
          ]
        },
        {
          "output_type": "stream",
          "name": "stdout",
          "text": [
            "Train Loss: 0.0120, Val Loss: 0.0121\n"
          ]
        },
        {
          "output_type": "stream",
          "name": "stderr",
          "text": [
            "Epoch 4/5: 100%|██████████| 20/20 [00:48<00:00,  2.40s/it]\n"
          ]
        },
        {
          "output_type": "stream",
          "name": "stdout",
          "text": [
            "Train Loss: 0.0114, Val Loss: 0.0118\n"
          ]
        },
        {
          "output_type": "stream",
          "name": "stderr",
          "text": [
            "Epoch 5/5: 100%|██████████| 20/20 [00:48<00:00,  2.41s/it]\n"
          ]
        },
        {
          "output_type": "stream",
          "name": "stdout",
          "text": [
            "Train Loss: 0.0112, Val Loss: 0.0115\n"
          ]
        }
      ]
    },
    {
      "cell_type": "code",
      "source": [
        "from sklearn.metrics import mean_squared_error\n",
        "\n",
        "\n",
        "# Evaluate the model\n",
        "def evaluate_model(model, test_loader, device, multi_task=False):\n",
        "    model.eval()\n",
        "    model.to(device)\n",
        "    loss_fn = nn.MSELoss()\n",
        "\n",
        "    preds = []\n",
        "    gt = []\n",
        "    loss_list = []\n",
        "    with torch.no_grad():\n",
        "        for batch in test_loader:\n",
        "            input_ids = batch['input_ids'].to(device)\n",
        "            attention_mask = batch['attention_mask'].to(device)\n",
        "            targets = batch['target'].to(device)\n",
        "            outputs = model(input_ids, attention_mask)\n",
        "            #for multi_task setting we only evaluate the humor rating to make it inline with the other models.\n",
        "            if multi_task:\n",
        "              outputs = outputs[:,0]\n",
        "              targets = targets[:,0].squeeze()\n",
        "            preds.append(outputs.squeeze().cpu().numpy())\n",
        "            gt.append(targets.cpu().numpy())\n",
        "            loss_list.append(loss_fn(outputs.squeeze(), targets).cpu().numpy())\n",
        "\n",
        "    preds = np.concatenate(preds)\n",
        "    gt = np.concatenate(gt)\n",
        "\n",
        "    mse = mean_squared_error(gt, preds)\n",
        "    avg_loss = np.mean(loss_list)\n",
        "    print(f'Test loss: {avg_loss:.4f}')\n",
        "    print(f'Test Mean Squared Error: {mse:.4f}')\n",
        "    return preds, gt\n",
        "\n",
        "preds, test_targets = evaluate_model(model, test_loader, device)"
      ],
      "metadata": {
        "id": "jEY4Prfhx3nf",
        "colab": {
          "base_uri": "https://localhost:8080/"
        },
        "outputId": "03d53f51-65d6-4ac8-ca85-7111c7c161c4"
      },
      "execution_count": 22,
      "outputs": [
        {
          "output_type": "stream",
          "name": "stdout",
          "text": [
            "Test loss: 0.0116\n",
            "Test Mean Squared Error: 0.0119\n"
          ]
        }
      ]
    },
    {
      "cell_type": "markdown",
      "metadata": {
        "id": "aa0sSeJE0UwU"
      },
      "source": [
        "Get the array of predictions here so that you can plot the outputs later."
      ]
    },
    {
      "cell_type": "markdown",
      "metadata": {
        "id": "_ll2c9dIPFdQ"
      },
      "source": [
        "## Predictive Distribution\n",
        "\n",
        "We compute min, max and mean for the golden and predicted humour ratings."
      ]
    },
    {
      "cell_type": "code",
      "execution_count": 23,
      "metadata": {
        "id": "M9h_-3pxdNM9",
        "colab": {
          "base_uri": "https://localhost:8080/"
        },
        "outputId": "331addbe-fd89-4315-b664-a59959501ef8"
      },
      "outputs": [
        {
          "output_type": "execute_result",
          "data": {
            "text/plain": [
              "(0.35658523, 0.5482287, 0.45032236)"
            ]
          },
          "metadata": {},
          "execution_count": 23
        }
      ],
      "source": [
        "min(preds), max(preds), preds.mean()"
      ]
    },
    {
      "cell_type": "code",
      "execution_count": 24,
      "metadata": {
        "id": "Op_zenYZFNm8",
        "colab": {
          "base_uri": "https://localhost:8080/"
        },
        "outputId": "d877810d-1f69-4a47-fe98-76e74d391400"
      },
      "outputs": [
        {
          "output_type": "execute_result",
          "data": {
            "text/plain": [
              "(0.054, 0.684, 0.42383412)"
            ]
          },
          "metadata": {},
          "execution_count": 24
        }
      ],
      "source": [
        "min(test_targets), max(test_targets), test_targets.mean()"
      ]
    },
    {
      "cell_type": "code",
      "execution_count": 25,
      "metadata": {
        "id": "7KO14nTkFUvq",
        "colab": {
          "base_uri": "https://localhost:8080/",
          "height": 451
        },
        "outputId": "faae09d8-9ad1-4a12-d765-370d6d21861b"
      },
      "outputs": [
        {
          "output_type": "execute_result",
          "data": {
            "text/plain": [
              "<Axes: >"
            ]
          },
          "metadata": {},
          "execution_count": 25
        },
        {
          "output_type": "display_data",
          "data": {
            "text/plain": [
              "<Figure size 640x480 with 1 Axes>"
            ],
            "image/png": "[encoded data removed]"
          },
          "metadata": {}
        }
      ],
      "source": [
        "pd.Series(preds).hist()"
      ]
    },
    {
      "cell_type": "code",
      "execution_count": 26,
      "metadata": {
        "id": "OuRkmr0HPFdR",
        "colab": {
          "base_uri": "https://localhost:8080/",
          "height": 448
        },
        "outputId": "7f4e37e4-dbc1-41a6-9279-a9ccdee98159"
      },
      "outputs": [
        {
          "output_type": "execute_result",
          "data": {
            "text/plain": [
              "<Axes: >"
            ]
          },
          "metadata": {},
          "execution_count": 26
        },
        {
          "output_type": "display_data",
          "data": {
            "text/plain": [
              "<Figure size 640x480 with 1 Axes>"
            ],
            "image/png": "[encoded data removed]"
          },
          "metadata": {}
        }
      ],
      "source": [
        "pd.Series(test_targets).hist()"
      ]
    },
    {
      "cell_type": "markdown",
      "metadata": {
        "id": "rt8ufAjVFjCf"
      },
      "source": [
        "Next, we plot the true vs predicted humour grade for our model."
      ]
    },
    {
      "cell_type": "code",
      "execution_count": 27,
      "metadata": {
        "id": "YkTird8tFxrY",
        "colab": {
          "base_uri": "https://localhost:8080/",
          "height": 519
        },
        "outputId": "edee85ca-18df-4dc0-9a1d-58b0e9a2f43e"
      },
      "outputs": [
        {
          "output_type": "display_data",
          "data": {
            "text/plain": [
              "<Figure size 960x720 with 1 Axes>"
            ],
            "image/png": "[encoded data removed]"
          },
          "metadata": {}
        }
      ],
      "source": [
        "import seaborn as sns\n",
        "import matplotlib.pyplot as plt\n",
        "def get_pred_true_plot(preds, labels, title):\n",
        "    limits = [labels.min(), labels.max()]\n",
        "    fig, ax = plt.subplots()\n",
        "    fig.set_dpi(150)\n",
        "    ax.set_title(title)\n",
        "    ax.scatter(labels, preds, marker='.')\n",
        "    ax.plot(limits, limits, color=\"gray\", linestyle=\":\")\n",
        "    ax.set_xlabel('True Humour Grade')\n",
        "    ax.set_ylabel('Predicted Humour Grade')\n",
        "    sns.regplot(x=labels, y=preds, ax=ax, scatter_kws={\"s\": 5})\n",
        "    plt.show()\n",
        "\n",
        "get_pred_true_plot(preds, test_targets, 'True vs Predicted Humour Grade for DistilBERT Model')"
      ]
    },
    {
      "cell_type": "markdown",
      "metadata": {
        "id": "ves524STEEeR"
      },
      "source": [
        "Our regressor tends to smooth down the extreme rating values to make them closer to the mean."
      ]
    },
    {
      "cell_type": "markdown",
      "metadata": {
        "id": "-LS3Oox93a4x"
      },
      "source": [
        "# Feature Engineering & Data Augmentation\n",
        "\n",
        "**Task 2: Preprocess the textual data with the Ekphrasis library following the standard pipeline https://github.com/cbaziotis/ekphrasis#text-pre-processing-pipeline. How does this affect the performance?**"
      ]
    },
    {
      "cell_type": "markdown",
      "metadata": {
        "id": "ZOhLQtu_HZgq"
      },
      "source": [
        "*Hint*: You might not want to annotate terms in order to keep the same length of the input sentences (for this, do not use the parameter `annotate={\"hashtag\", \"allcaps\", \"elongated\", \"repeated\", 'emphasis', 'censored'}`)."
      ]
    },
    {
      "cell_type": "code",
      "execution_count": 28,
      "metadata": {
        "id": "oTVPfG-43ZSe",
        "colab": {
          "base_uri": "https://localhost:8080/"
        },
        "outputId": "1084b69a-7bb6-4f91-dbd1-a6ca7f9c4eaf"
      },
      "outputs": [
        {
          "output_type": "stream",
          "name": "stdout",
          "text": [
            "\u001b[?25l   \u001b[90m━━━━━━━━━━━━━━━━━━━━━━━━━━━━━━━━━━━━━━━━\u001b[0m \u001b[32m0.0/83.8 kB\u001b[0m \u001b[31m?\u001b[0m eta \u001b[36m-:--:--\u001b[0m\r\u001b[2K   \u001b[90m━━━━━━━━━━━━━━━━━━━━━━━━━━━━━━━━━━━━━━━━\u001b[0m \u001b[32m83.8/83.8 kB\u001b[0m \u001b[31m4.5 MB/s\u001b[0m eta \u001b[36m0:00:00\u001b[0m\n",
            "\u001b[?25h\u001b[?25l   \u001b[90m━━━━━━━━━━━━━━━━━━━━━━━━━━━━━━━━━━━━━━━━\u001b[0m \u001b[32m0.0/44.8 kB\u001b[0m \u001b[31m?\u001b[0m eta \u001b[36m-:--:--\u001b[0m\r\u001b[2K   \u001b[90m━━━━━━━━━━━━━━━━━━━━━━━━━━━━━━━━━━━━━━━━\u001b[0m \u001b[32m44.8/44.8 kB\u001b[0m \u001b[31m3.8 MB/s\u001b[0m eta \u001b[36m0:00:00\u001b[0m\n",
            "\u001b[2K   \u001b[90m━━━━━━━━━━━━━━━━━━━━━━━━━━━━━━━━━━━━━━━━\u001b[0m \u001b[32m53.6/53.6 kB\u001b[0m \u001b[31m4.8 MB/s\u001b[0m eta \u001b[36m0:00:00\u001b[0m\n",
            "\u001b[2K     \u001b[90m━━━━━━━━━━━━━━━━━━━━━━━━━━━━━━━━━━━━━━━━\u001b[0m \u001b[32m51.0/51.0 kB\u001b[0m \u001b[31m3.4 MB/s\u001b[0m eta \u001b[36m0:00:00\u001b[0m\n",
            "\u001b[?25h  Preparing metadata (setup.py) ... \u001b[?25l\u001b[?25hdone\n",
            "  Building wheel for emoji (setup.py) ... \u001b[?25l\u001b[?25hdone\n"
          ]
        }
      ],
      "source": [
        "!pip install -q ekphrasis\n",
        "!pip3 install -q emoji==0.6.0"
      ]
    },
    {
      "cell_type": "code",
      "execution_count": 29,
      "metadata": {
        "id": "7_KBBFNn30Cp",
        "colab": {
          "base_uri": "https://localhost:8080/"
        },
        "outputId": "0a44efa8-cf29-495e-e594-9ac5d037961a"
      },
      "outputs": [
        {
          "output_type": "stream",
          "name": "stderr",
          "text": [
            "/usr/local/lib/python3.11/dist-packages/ekphrasis/classes/tokenizer.py:225: FutureWarning: Possible nested set at position 2190\n",
            "  self.tok = re.compile(r\"({})\".format(\"|\".join(pipeline)))\n"
          ]
        },
        {
          "output_type": "stream",
          "name": "stdout",
          "text": [
            "Word statistics files not found!\n",
            "Downloading... done!\n",
            "Unpacking... done!\n",
            "Reading twitter - 1grams ...\n",
            "generating cache file for faster loading...\n",
            "reading ngrams /root/.ekphrasis/stats/twitter/counts_1grams.txt\n",
            "Reading twitter - 2grams ...\n",
            "generating cache file for faster loading...\n",
            "reading ngrams /root/.ekphrasis/stats/twitter/counts_2grams.txt\n"
          ]
        },
        {
          "output_type": "stream",
          "name": "stderr",
          "text": [
            "/usr/local/lib/python3.11/dist-packages/ekphrasis/classes/exmanager.py:14: FutureWarning: Possible nested set at position 42\n",
            "  regexes = {k.lower(): re.compile(self.expressions[k]) for k, v in\n"
          ]
        },
        {
          "output_type": "stream",
          "name": "stdout",
          "text": [
            "Reading twitter - 1grams ...\n"
          ]
        }
      ],
      "source": [
        "\"\"\"\n",
        "Task 2\n",
        "\n",
        "Begin\n",
        "\"\"\"\n",
        "from ekphrasis.classes.preprocessor import TextPreProcessor\n",
        "from ekphrasis.classes.tokenizer import SocialTokenizer\n",
        "from ekphrasis.dicts.emoticons import emoticons\n",
        "\n",
        "#initializing the text preprocessor (without annotation)\n",
        "text_processor = TextPreProcessor(\n",
        "    normalize=['url', 'email', 'percent', 'money', 'phone', 'user',\n",
        "               'time', 'url', 'date', 'number'],\n",
        "    fix_html=True,\n",
        "    segmenter=\"twitter\",\n",
        "    corrector=\"twitter\",\n",
        "    unpack_hashtags=True,\n",
        "    unpack_contractions=True,\n",
        "    spell_correct_elong=False,\n",
        "    tokenizer=SocialTokenizer(lowercase=True).tokenize,\n",
        "    dicts=[emoticons]\n",
        ")\n",
        "\n",
        "\"\"\"\n",
        "End Task 2\n",
        "\"\"\"\n",
        "new_train_examples_list = [\" \".join(text_processor.pre_process_doc(example)) for example in train_examples_list]\n",
        "new_dev_examples_list = [\" \".join(text_processor.pre_process_doc(example)) for example in dev_examples_list]\n",
        "new_test_examples_list = [\" \".join(text_processor.pre_process_doc(example)) for example in test_examples_list]\n"
      ]
    },
    {
      "cell_type": "code",
      "execution_count": 30,
      "metadata": {
        "id": "OgBytRATYCJl",
        "colab": {
          "base_uri": "https://localhost:8080/"
        },
        "outputId": "75da34c3-a2fc-43b5-9246-93b4cb916ba6"
      },
      "outputs": [
        {
          "output_type": "stream",
          "name": "stdout",
          "text": [
            "Original Text: TENNESSEE: We're the best state. Nobody even comes close. *Elevennessee walks into the room* TENNESSEE: Oh shit...\n",
            "Preprocessed Text: tennessee : we are the best state . nobody even comes close . * elevennessee walks into the room * tennessee : oh shit . . .\n"
          ]
        }
      ],
      "source": [
        "print(\"Original Text:\", train_examples_list[0])\n",
        "print(\"Preprocessed Text:\", new_train_examples_list[0])"
      ]
    },
    {
      "cell_type": "code",
      "execution_count": 31,
      "metadata": {
        "id": "16Vk_2Km31pB",
        "colab": {
          "base_uri": "https://localhost:8080/"
        },
        "outputId": "baaf02f6-8a93-448c-822a-1ba620a16176"
      },
      "outputs": [
        {
          "output_type": "stream",
          "name": "stderr",
          "text": [
            "/usr/local/lib/python3.11/dist-packages/transformers/tokenization_utils_base.py:2681: FutureWarning: The `pad_to_max_length` argument is deprecated and will be removed in a future version, use `padding=True` or `padding='longest'` to pad to the longest sequence in the batch, or use `padding='max_length'` to pad to a max length. In this case, you can give a specific length with `max_length` (e.g. `max_length=45`) or leave max_length to None to pad to the maximal input size of the model (e.g. 512 for Bert).\n",
            "  warnings.warn(\n",
            "/usr/local/lib/python3.11/dist-packages/transformers/optimization.py:591: FutureWarning: This implementation of AdamW is deprecated and will be removed in a future version. Use the PyTorch implementation torch.optim.AdamW instead, or set `no_deprecation_warning=True` to disable this warning\n",
            "  warnings.warn(\n",
            "Epoch 1/5: 100%|██████████| 20/20 [00:49<00:00,  2.47s/it]\n"
          ]
        },
        {
          "output_type": "stream",
          "name": "stdout",
          "text": [
            "Train Loss: 0.0494, Val Loss: 0.0186\n"
          ]
        },
        {
          "output_type": "stream",
          "name": "stderr",
          "text": [
            "Epoch 2/5: 100%|██████████| 20/20 [00:48<00:00,  2.40s/it]\n"
          ]
        },
        {
          "output_type": "stream",
          "name": "stdout",
          "text": [
            "Train Loss: 0.0144, Val Loss: 0.0124\n"
          ]
        },
        {
          "output_type": "stream",
          "name": "stderr",
          "text": [
            "Epoch 3/5: 100%|██████████| 20/20 [00:48<00:00,  2.41s/it]\n"
          ]
        },
        {
          "output_type": "stream",
          "name": "stdout",
          "text": [
            "Train Loss: 0.0119, Val Loss: 0.0120\n"
          ]
        },
        {
          "output_type": "stream",
          "name": "stderr",
          "text": [
            "Epoch 4/5: 100%|██████████| 20/20 [00:48<00:00,  2.42s/it]\n"
          ]
        },
        {
          "output_type": "stream",
          "name": "stdout",
          "text": [
            "Train Loss: 0.0114, Val Loss: 0.0116\n"
          ]
        },
        {
          "output_type": "stream",
          "name": "stderr",
          "text": [
            "Epoch 5/5: 100%|██████████| 20/20 [00:48<00:00,  2.41s/it]\n"
          ]
        },
        {
          "output_type": "stream",
          "name": "stdout",
          "text": [
            "Train Loss: 0.0110, Val Loss: 0.0114\n"
          ]
        }
      ],
      "source": [
        "train_input_ids, train_attention_masks, train_targets = get_bert_inputs(new_train_examples_list, train_targets_list)\n",
        "dev_input_ids, dev_attention_masks, dev_targets = get_bert_inputs(new_dev_examples_list, dev_targets_list)\n",
        "test_input_ids, test_attention_masks, test_targets = get_bert_inputs(new_test_examples_list, test_targets_list)\n",
        "\n",
        "\n",
        "# Prepare DataLoader\n",
        "train_dataset = HumorDataset(train_input_ids, train_attention_masks, train_targets)\n",
        "dev_dataset = HumorDataset(dev_input_ids, dev_attention_masks, dev_targets)\n",
        "test_dataset = HumorDataset(test_input_ids, test_attention_masks, test_targets)\n",
        "\n",
        "train_loader = DataLoader(train_dataset, batch_size=BATCH_SIZE, shuffle=True)\n",
        "dev_loader = DataLoader(dev_dataset, batch_size=BATCH_SIZE)\n",
        "test_loader = DataLoader(test_dataset, batch_size=BATCH_SIZE)\n",
        "\n",
        "model = BERTRegressionModel()\n",
        "train_model(model, train_loader, dev_loader, device)"
      ]
    },
    {
      "cell_type": "code",
      "execution_count": 32,
      "metadata": {
        "id": "Jq1skI4nLEJl",
        "colab": {
          "base_uri": "https://localhost:8080/"
        },
        "outputId": "c80cb345-3c8a-4ee6-fdb5-e26b133d4b48"
      },
      "outputs": [
        {
          "output_type": "stream",
          "name": "stdout",
          "text": [
            "Test loss: 0.0121\n",
            "Test Mean Squared Error: 0.0124\n"
          ]
        }
      ],
      "source": [
        "preds, test_targets = evaluate_model(model, test_loader, device)"
      ]
    },
    {
      "cell_type": "code",
      "source": [
        "min(preds), max(preds), preds.mean()"
      ],
      "metadata": {
        "colab": {
          "base_uri": "https://localhost:8080/"
        },
        "id": "0V6lYzrTWJ9_",
        "outputId": "bbaffc46-c265-42a9-e093-8225858a5c26"
      },
      "execution_count": 34,
      "outputs": [
        {
          "output_type": "execute_result",
          "data": {
            "text/plain": [
              "(0.36339033, 0.54666567, 0.45857787)"
            ]
          },
          "metadata": {},
          "execution_count": 34
        }
      ]
    },
    {
      "cell_type": "code",
      "source": [
        "min(test_targets), max(test_targets), test_targets.mean()"
      ],
      "metadata": {
        "colab": {
          "base_uri": "https://localhost:8080/"
        },
        "id": "ijK730kuWOHx",
        "outputId": "515d67c6-fa8a-4040-c8be-df6fb1be6c6e"
      },
      "execution_count": 35,
      "outputs": [
        {
          "output_type": "execute_result",
          "data": {
            "text/plain": [
              "(0.054, 0.684, 0.42383412)"
            ]
          },
          "metadata": {},
          "execution_count": 35
        }
      ]
    },
    {
      "cell_type": "markdown",
      "metadata": {
        "id": "DKzuPMLiQWL6"
      },
      "source": [
        "Your results may be different depending on the implementation but typically special preprocessing does not drastically change the performance for this task."
      ]
    },
    {
      "cell_type": "markdown",
      "metadata": {
        "id": "rrfXrLUm36XZ"
      },
      "source": [
        "**Task 3: Augment the training data twice by changing the original data via two methods from the Nlpaug (https://github.com/makcedward/nlpaug) library: (a) synonym replacement from WordNet; (b) deletion of random words. Comment on which method gives the best performance.**\n",
        "\n",
        "*Hint*: Use the Synonym Augmenter and Random Word Augmenter (Delete word randomly) classes as follows:\n",
        "```\n",
        "aug = naw.SynonymAug(aug_src='wordnet')\n",
        "augmented_text = aug.augment(text)\n",
        "\n",
        "aug = naw.RandomWordAug()\n",
        "augmented_text = aug.augment(text)\n",
        "```\n",
        "\n",
        "\n",
        "\n",
        "\n",
        "\n",
        "For more examples check https://github.com/makcedward/nlpaug/blob/master/example/textual_augmenter.ipynb"
      ]
    },
    {
      "cell_type": "code",
      "execution_count": 36,
      "metadata": {
        "id": "iGBjZmyj37ZA",
        "colab": {
          "base_uri": "https://localhost:8080/"
        },
        "outputId": "6861e350-09c6-481e-aa6a-c33a1e13d03f"
      },
      "outputs": [
        {
          "output_type": "stream",
          "name": "stdout",
          "text": [
            "Collecting nlpaug\n",
            "  Downloading nlpaug-1.1.11-py3-none-any.whl.metadata (14 kB)\n",
            "Requirement already satisfied: numpy>=1.16.2 in /usr/local/lib/python3.11/dist-packages (from nlpaug) (1.26.4)\n",
            "Requirement already satisfied: pandas>=1.2.0 in /usr/local/lib/python3.11/dist-packages (from nlpaug) (2.2.2)\n",
            "Requirement already satisfied: requests>=2.22.0 in /usr/local/lib/python3.11/dist-packages (from nlpaug) (2.32.3)\n",
            "Requirement already satisfied: gdown>=4.0.0 in /usr/local/lib/python3.11/dist-packages (from nlpaug) (5.2.0)\n",
            "Requirement already satisfied: beautifulsoup4 in /usr/local/lib/python3.11/dist-packages (from gdown>=4.0.0->nlpaug) (4.13.3)\n",
            "Requirement already satisfied: filelock in /usr/local/lib/python3.11/dist-packages (from gdown>=4.0.0->nlpaug) (3.17.0)\n",
            "Requirement already satisfied: tqdm in /usr/local/lib/python3.11/dist-packages (from gdown>=4.0.0->nlpaug) (4.67.1)\n",
            "Requirement already satisfied: python-dateutil>=2.8.2 in /usr/local/lib/python3.11/dist-packages (from pandas>=1.2.0->nlpaug) (2.8.2)\n",
            "Requirement already satisfied: pytz>=2020.1 in /usr/local/lib/python3.11/dist-packages (from pandas>=1.2.0->nlpaug) (2025.1)\n",
            "Requirement already satisfied: tzdata>=2022.7 in /usr/local/lib/python3.11/dist-packages (from pandas>=1.2.0->nlpaug) (2025.1)\n",
            "Requirement already satisfied: charset-normalizer<4,>=2 in /usr/local/lib/python3.11/dist-packages (from requests>=2.22.0->nlpaug) (3.4.1)\n",
            "Requirement already satisfied: idna<4,>=2.5 in /usr/local/lib/python3.11/dist-packages (from requests>=2.22.0->nlpaug) (3.10)\n",
            "Requirement already satisfied: urllib3<3,>=1.21.1 in /usr/local/lib/python3.11/dist-packages (from requests>=2.22.0->nlpaug) (2.3.0)\n",
            "Requirement already satisfied: certifi>=2017.4.17 in /usr/local/lib/python3.11/dist-packages (from requests>=2.22.0->nlpaug) (2025.1.31)\n",
            "Requirement already satisfied: six>=1.5 in /usr/local/lib/python3.11/dist-packages (from python-dateutil>=2.8.2->pandas>=1.2.0->nlpaug) (1.17.0)\n",
            "Requirement already satisfied: soupsieve>1.2 in /usr/local/lib/python3.11/dist-packages (from beautifulsoup4->gdown>=4.0.0->nlpaug) (2.6)\n",
            "Requirement already satisfied: typing-extensions>=4.0.0 in /usr/local/lib/python3.11/dist-packages (from beautifulsoup4->gdown>=4.0.0->nlpaug) (4.12.2)\n",
            "Requirement already satisfied: PySocks!=1.5.7,>=1.5.6 in /usr/local/lib/python3.11/dist-packages (from requests[socks]->gdown>=4.0.0->nlpaug) (1.7.1)\n",
            "Downloading nlpaug-1.1.11-py3-none-any.whl (410 kB)\n",
            "\u001b[?25l   \u001b[90m━━━━━━━━━━━━━━━━━━━━━━━━━━━━━━━━━━━━━━━━\u001b[0m \u001b[32m0.0/410.5 kB\u001b[0m \u001b[31m?\u001b[0m eta \u001b[36m-:--:--\u001b[0m\r\u001b[2K   \u001b[90m━━━━━━━━━━━━━━━━━━━━━━━━━━━━━━━━━━━━━━━━\u001b[0m \u001b[32m410.5/410.5 kB\u001b[0m \u001b[31m12.4 MB/s\u001b[0m eta \u001b[36m0:00:00\u001b[0m\n",
            "\u001b[?25hInstalling collected packages: nlpaug\n",
            "Successfully installed nlpaug-1.1.11\n"
          ]
        }
      ],
      "source": [
        "!pip install nlpaug"
      ]
    },
    {
      "cell_type": "code",
      "execution_count": 43,
      "metadata": {
        "id": "Ke50JombOY-s"
      },
      "outputs": [],
      "source": [
        "# Get the data again to apply augmentation\n",
        "train_examples_list = train_df['text'].tolist()\n",
        "train_targets_list = (train_df['humor_rating']/5).tolist()"
      ]
    },
    {
      "cell_type": "code",
      "execution_count": 44,
      "metadata": {
        "id": "Agafk2uQ39Cd",
        "colab": {
          "base_uri": "https://localhost:8080/",
          "height": 107
        },
        "outputId": "11b53b95-1beb-4ff4-8c78-5707c80a2956"
      },
      "outputs": [
        {
          "output_type": "stream",
          "name": "stderr",
          "text": [
            "[nltk_data] Downloading package averaged_perceptron_tagger_eng to\n",
            "[nltk_data]     /root/nltk_data...\n",
            "[nltk_data]   Package averaged_perceptron_tagger_eng is already up-to-\n",
            "[nltk_data]       date!\n"
          ]
        },
        {
          "output_type": "execute_result",
          "data": {
            "text/plain": [
              "'\\nEnd Task 3\\n'"
            ],
            "application/vnd.google.colaboratory.intrinsic+json": {
              "type": "string"
            }
          },
          "metadata": {},
          "execution_count": 44
        }
      ],
      "source": [
        "import nlpaug.augmenter.word as naw\n",
        "import nltk\n",
        "nltk.download('averaged_perceptron_tagger_eng')\n",
        "\n",
        "\"\"\"\n",
        "Task 3\n",
        "\n",
        "Begin\n",
        "\"\"\"\n",
        "augmented_texts_synonym = []\n",
        "augmented_texts_random_del = []\n",
        "augmented_targets = []\n",
        "#replacing synonyms\n",
        "synonym_aug = naw.SynonymAug(aug_src='wordnet')\n",
        "\n",
        "#random word deletion\n",
        "random_del_aug = naw.RandomWordAug()\n",
        "\n",
        "for text, target in zip(train_examples_list, train_targets_list):\n",
        "    #generate augmented versions\n",
        "    augmented_texts_synonym.append(synonym_aug.augment(text))\n",
        "\n",
        "    augmented_texts_random_del.append(random_del_aug.augment(text))\n",
        "\n",
        "    # Duplicate targets for the new samples\n",
        "    augmented_targets.append(target)\n",
        "\n",
        "#original + augmented\n",
        "final_synonym_train_examples = train_examples_list + augmented_texts_synonym\n",
        "final_random_del_train_examples = train_examples_list + augmented_texts_random_del\n",
        "final_train_targets = train_targets_list + augmented_targets\n",
        "\n",
        "\n",
        "\n",
        "\"\"\"\n",
        "End Task 3\n",
        "\"\"\"\n"
      ]
    },
    {
      "cell_type": "code",
      "execution_count": 40,
      "metadata": {
        "id": "Up1ReoET4RRm",
        "colab": {
          "base_uri": "https://localhost:8080/"
        },
        "outputId": "bb40a642-bcfd-439c-b05e-5ce352322017"
      },
      "outputs": [
        {
          "output_type": "stream",
          "name": "stdout",
          "text": [
            "Today, we Americans celebrate our independence from Britain while planning our escape to Canada.\n",
            "Today, we Americans celebrate our independence from Britain while planning our escape to Canada.\n"
          ]
        }
      ],
      "source": [
        "print(train_examples_list[-2])\n",
        "print(train_examples_list[4930])"
      ]
    },
    {
      "cell_type": "code",
      "execution_count": 45,
      "metadata": {
        "id": "i4b6SkXk4Kuu",
        "colab": {
          "base_uri": "https://localhost:8080/"
        },
        "outputId": "41a537bf-8e1f-4055-8170-b218325ebb0f"
      },
      "outputs": [
        {
          "output_type": "stream",
          "name": "stderr",
          "text": [
            "/usr/local/lib/python3.11/dist-packages/transformers/tokenization_utils_base.py:2681: FutureWarning: The `pad_to_max_length` argument is deprecated and will be removed in a future version, use `padding=True` or `padding='longest'` to pad to the longest sequence in the batch, or use `padding='max_length'` to pad to a max length. In this case, you can give a specific length with `max_length` (e.g. `max_length=45`) or leave max_length to None to pad to the maximal input size of the model (e.g. 512 for Bert).\n",
            "  warnings.warn(\n"
          ]
        }
      ],
      "source": [
        "#synonym\n",
        "train_examples_list = final_synonym_train_examples\n",
        "train_targets_list = final_train_targets\n",
        "train_input_ids, train_attention_masks, train_targets = get_bert_inputs(train_examples_list, train_targets_list)\n",
        "dev_input_ids, dev_attention_masks, dev_targets = get_bert_inputs(dev_examples_list, dev_targets_list)\n",
        "test_input_ids, test_attention_masks, test_targets = get_bert_inputs(test_examples_list, test_targets_list)\n",
        "\n",
        "# Prepare DataLoader\n",
        "train_dataset = HumorDataset(train_input_ids, train_attention_masks, train_targets)\n",
        "dev_dataset = HumorDataset(dev_input_ids, dev_attention_masks, dev_targets)\n",
        "test_dataset = HumorDataset(test_input_ids, test_attention_masks, test_targets)\n",
        "\n",
        "train_loader = DataLoader(train_dataset, batch_size=BATCH_SIZE, shuffle=True)\n",
        "dev_loader = DataLoader(dev_dataset, batch_size=BATCH_SIZE)\n",
        "test_loader = DataLoader(test_dataset, batch_size=BATCH_SIZE)"
      ]
    },
    {
      "cell_type": "markdown",
      "metadata": {
        "id": "PWrhEU4CAiUe"
      },
      "source": [
        "We have now augmented the original data twice:"
      ]
    },
    {
      "cell_type": "code",
      "execution_count": 46,
      "metadata": {
        "id": "0d1m15P3oEh-",
        "colab": {
          "base_uri": "https://localhost:8080/"
        },
        "outputId": "1a398f29-2ccc-4cda-bb4b-5d6568840359"
      },
      "outputs": [
        {
          "output_type": "stream",
          "name": "stdout",
          "text": [
            "Training examples before augmentation:\n",
            "4932\n",
            "Training examples after augmentation:\n",
            "9864\n"
          ]
        }
      ],
      "source": [
        "print(\"Training examples before augmentation:\")\n",
        "print(len(train_df['text'].tolist()))\n",
        "print(\"Training examples after augmentation:\")\n",
        "print(len(train_examples_list))"
      ]
    },
    {
      "cell_type": "code",
      "execution_count": 47,
      "metadata": {
        "id": "qc15eVYtG2Dv",
        "colab": {
          "base_uri": "https://localhost:8080/"
        },
        "outputId": "941937ed-7ad2-4738-a347-6066f740109a"
      },
      "outputs": [
        {
          "output_type": "stream",
          "name": "stderr",
          "text": [
            "/usr/local/lib/python3.11/dist-packages/transformers/optimization.py:591: FutureWarning: This implementation of AdamW is deprecated and will be removed in a future version. Use the PyTorch implementation torch.optim.AdamW instead, or set `no_deprecation_warning=True` to disable this warning\n",
            "  warnings.warn(\n",
            "Epoch 1/5: 100%|██████████| 39/39 [01:36<00:00,  2.48s/it]\n"
          ]
        },
        {
          "output_type": "stream",
          "name": "stdout",
          "text": [
            "Train Loss: 0.1186, Val Loss: 0.0130\n"
          ]
        },
        {
          "output_type": "stream",
          "name": "stderr",
          "text": [
            "Epoch 2/5: 100%|██████████| 39/39 [01:35<00:00,  2.46s/it]\n"
          ]
        },
        {
          "output_type": "stream",
          "name": "stdout",
          "text": [
            "Train Loss: 0.0129, Val Loss: 0.0126\n"
          ]
        },
        {
          "output_type": "stream",
          "name": "stderr",
          "text": [
            "Epoch 3/5: 100%|██████████| 39/39 [01:35<00:00,  2.45s/it]\n"
          ]
        },
        {
          "output_type": "stream",
          "name": "stdout",
          "text": [
            "Train Loss: 0.0127, Val Loss: 0.0122\n"
          ]
        },
        {
          "output_type": "stream",
          "name": "stderr",
          "text": [
            "Epoch 4/5: 100%|██████████| 39/39 [01:35<00:00,  2.45s/it]\n"
          ]
        },
        {
          "output_type": "stream",
          "name": "stdout",
          "text": [
            "Train Loss: 0.0124, Val Loss: 0.0118\n"
          ]
        },
        {
          "output_type": "stream",
          "name": "stderr",
          "text": [
            "Epoch 5/5: 100%|██████████| 39/39 [01:35<00:00,  2.45s/it]\n"
          ]
        },
        {
          "output_type": "stream",
          "name": "stdout",
          "text": [
            "Train Loss: 0.0121, Val Loss: 0.0116\n"
          ]
        }
      ],
      "source": [
        "model = BERTRegressionModel()\n",
        "train_model(model, train_loader, dev_loader, device)"
      ]
    },
    {
      "cell_type": "code",
      "execution_count": 48,
      "metadata": {
        "id": "WGrTvBP9OtMX",
        "colab": {
          "base_uri": "https://localhost:8080/"
        },
        "outputId": "5f7470e3-b6b1-4835-e68d-2e8126b8e2af"
      },
      "outputs": [
        {
          "output_type": "stream",
          "name": "stdout",
          "text": [
            "Test loss: 0.0122\n",
            "Test Mean Squared Error: 0.0125\n"
          ]
        }
      ],
      "source": [
        "preds, test_targets = evaluate_model(model, test_loader, device)"
      ]
    },
    {
      "cell_type": "code",
      "source": [
        "#deletion\n",
        "train_examples_list = final_random_del_train_examples\n",
        "train_targets_list = final_train_targets\n",
        "train_input_ids, train_attention_masks, train_targets = get_bert_inputs(train_examples_list, train_targets_list)\n",
        "dev_input_ids, dev_attention_masks, dev_targets = get_bert_inputs(dev_examples_list, dev_targets_list)\n",
        "test_input_ids, test_attention_masks, test_targets = get_bert_inputs(test_examples_list, test_targets_list)\n",
        "\n",
        "# Prepare DataLoader\n",
        "train_dataset = HumorDataset(train_input_ids, train_attention_masks, train_targets)\n",
        "dev_dataset = HumorDataset(dev_input_ids, dev_attention_masks, dev_targets)\n",
        "test_dataset = HumorDataset(test_input_ids, test_attention_masks, test_targets)\n",
        "\n",
        "train_loader = DataLoader(train_dataset, batch_size=BATCH_SIZE, shuffle=True)\n",
        "dev_loader = DataLoader(dev_dataset, batch_size=BATCH_SIZE)\n",
        "test_loader = DataLoader(test_dataset, batch_size=BATCH_SIZE)\n",
        "\n",
        "print(\"Training examples before augmentation:\")\n",
        "print(len(train_df['text'].tolist()))\n",
        "print(\"Training examples after augmentation:\")\n",
        "print(len(train_examples_list))\n",
        "\n"
      ],
      "metadata": {
        "colab": {
          "base_uri": "https://localhost:8080/"
        },
        "id": "V9Wo79RteJ8T",
        "outputId": "7081d8ba-9161-4854-c304-4aebce0d8f79"
      },
      "execution_count": 49,
      "outputs": [
        {
          "output_type": "stream",
          "name": "stderr",
          "text": [
            "/usr/local/lib/python3.11/dist-packages/transformers/tokenization_utils_base.py:2681: FutureWarning: The `pad_to_max_length` argument is deprecated and will be removed in a future version, use `padding=True` or `padding='longest'` to pad to the longest sequence in the batch, or use `padding='max_length'` to pad to a max length. In this case, you can give a specific length with `max_length` (e.g. `max_length=45`) or leave max_length to None to pad to the maximal input size of the model (e.g. 512 for Bert).\n",
            "  warnings.warn(\n"
          ]
        },
        {
          "output_type": "stream",
          "name": "stdout",
          "text": [
            "Training examples before augmentation:\n",
            "4932\n",
            "Training examples after augmentation:\n",
            "9864\n"
          ]
        }
      ]
    },
    {
      "cell_type": "code",
      "source": [
        "model = BERTRegressionModel()\n",
        "train_model(model, train_loader, dev_loader, device)"
      ],
      "metadata": {
        "colab": {
          "base_uri": "https://localhost:8080/"
        },
        "id": "R08TXs55eWJw",
        "outputId": "3b67e6c1-d8b0-4ac8-b7dd-314714c8cf93"
      },
      "execution_count": 50,
      "outputs": [
        {
          "output_type": "stream",
          "name": "stderr",
          "text": [
            "/usr/local/lib/python3.11/dist-packages/transformers/optimization.py:591: FutureWarning: This implementation of AdamW is deprecated and will be removed in a future version. Use the PyTorch implementation torch.optim.AdamW instead, or set `no_deprecation_warning=True` to disable this warning\n",
            "  warnings.warn(\n",
            "Epoch 1/5: 100%|██████████| 39/39 [01:36<00:00,  2.46s/it]\n"
          ]
        },
        {
          "output_type": "stream",
          "name": "stdout",
          "text": [
            "Train Loss: 0.0222, Val Loss: 0.0127\n"
          ]
        },
        {
          "output_type": "stream",
          "name": "stderr",
          "text": [
            "Epoch 2/5: 100%|██████████| 39/39 [01:35<00:00,  2.46s/it]\n"
          ]
        },
        {
          "output_type": "stream",
          "name": "stdout",
          "text": [
            "Train Loss: 0.0124, Val Loss: 0.0117\n"
          ]
        },
        {
          "output_type": "stream",
          "name": "stderr",
          "text": [
            "Epoch 3/5: 100%|██████████| 39/39 [01:35<00:00,  2.45s/it]\n"
          ]
        },
        {
          "output_type": "stream",
          "name": "stdout",
          "text": [
            "Train Loss: 0.0121, Val Loss: 0.0115\n"
          ]
        },
        {
          "output_type": "stream",
          "name": "stderr",
          "text": [
            "Epoch 4/5: 100%|██████████| 39/39 [01:35<00:00,  2.46s/it]\n"
          ]
        },
        {
          "output_type": "stream",
          "name": "stdout",
          "text": [
            "Train Loss: 0.0118, Val Loss: 0.0112\n"
          ]
        },
        {
          "output_type": "stream",
          "name": "stderr",
          "text": [
            "Epoch 5/5: 100%|██████████| 39/39 [01:35<00:00,  2.46s/it]\n"
          ]
        },
        {
          "output_type": "stream",
          "name": "stdout",
          "text": [
            "Train Loss: 0.0116, Val Loss: 0.0110\n"
          ]
        }
      ]
    },
    {
      "cell_type": "code",
      "source": [
        "preds, test_targets = evaluate_model(model, test_loader, device)"
      ],
      "metadata": {
        "colab": {
          "base_uri": "https://localhost:8080/"
        },
        "id": "3p-aJ8gieW0m",
        "outputId": "754f646f-eece-4803-eb60-39a2e4901736"
      },
      "execution_count": 51,
      "outputs": [
        {
          "output_type": "stream",
          "name": "stdout",
          "text": [
            "Test loss: 0.0115\n",
            "Test Mean Squared Error: 0.0118\n"
          ]
        }
      ]
    },
    {
      "cell_type": "markdown",
      "metadata": {
        "id": "Kpz5hGuIRYBX"
      },
      "source": [
        "Your results may be different depending on the implementation but typically there are no drastic differences between the augmentation setups."
      ]
    },
    {
      "cell_type": "markdown",
      "metadata": {
        "id": "F4RbT-0T3OMY"
      },
      "source": [
        "# Ensembled BERT Model\n",
        "\n",
        "In this section you will train and evaluate an **ensemble** of BERT models.\n",
        "\n",
        "We define the hyperparameters, including the number of models we want to ensemble (RERUNS=3, i.e., 3 models).\n",
        "\n",
        "**Task 4: Train three DistilBERT models, get their predictions on the test set, take the mean of those predictions and evaluate this ensembled prediction. Comment on the resulting performance.**\n",
        "\n",
        "We create three models in a loop, set a new random seed before creating each of them (`set_random_seed(seed=random.randint(0, 500))`) and accumulate predictions per model in a list."
      ]
    },
    {
      "cell_type": "code",
      "execution_count": 52,
      "metadata": {
        "id": "RMIdOlIukwu-",
        "colab": {
          "base_uri": "https://localhost:8080/"
        },
        "outputId": "3da2871c-c4cb-4f1d-b542-67e41c7a8ad6"
      },
      "outputs": [
        {
          "output_type": "stream",
          "name": "stderr",
          "text": [
            "/usr/local/lib/python3.11/dist-packages/transformers/tokenization_utils_base.py:2681: FutureWarning: The `pad_to_max_length` argument is deprecated and will be removed in a future version, use `padding=True` or `padding='longest'` to pad to the longest sequence in the batch, or use `padding='max_length'` to pad to a max length. In this case, you can give a specific length with `max_length` (e.g. `max_length=45`) or leave max_length to None to pad to the maximal input size of the model (e.g. 512 for Bert).\n",
            "  warnings.warn(\n"
          ]
        }
      ],
      "source": [
        "# Get the train data again to avoid any confusion\n",
        "train_examples_list = train_df['text'].tolist()\n",
        "train_targets_list = (train_df['humor_rating']/5).tolist()\n",
        "\n",
        "train_input_ids, train_attention_masks, train_targets = get_bert_inputs(train_examples_list, train_targets_list)\n",
        "\n",
        "# Prepare DataLoader\n",
        "train_dataset = HumorDataset(train_input_ids, train_attention_masks, train_targets)\n",
        "\n",
        "train_loader = DataLoader(train_dataset, batch_size=BATCH_SIZE, shuffle=True)\n"
      ]
    },
    {
      "cell_type": "code",
      "execution_count": 53,
      "metadata": {
        "id": "PI5nSuK3jygf",
        "colab": {
          "base_uri": "https://localhost:8080/",
          "height": 805
        },
        "outputId": "e9f2fd0f-ce21-4a1d-b260-c9ff31b243a5"
      },
      "outputs": [
        {
          "output_type": "stream",
          "name": "stderr",
          "text": [
            "/usr/local/lib/python3.11/dist-packages/transformers/optimization.py:591: FutureWarning: This implementation of AdamW is deprecated and will be removed in a future version. Use the PyTorch implementation torch.optim.AdamW instead, or set `no_deprecation_warning=True` to disable this warning\n",
            "  warnings.warn(\n",
            "Epoch 1/5: 100%|██████████| 20/20 [00:49<00:00,  2.48s/it]\n"
          ]
        },
        {
          "output_type": "stream",
          "name": "stdout",
          "text": [
            "Train Loss: 0.0324, Val Loss: 0.0140\n"
          ]
        },
        {
          "output_type": "stream",
          "name": "stderr",
          "text": [
            "Epoch 2/5: 100%|██████████| 20/20 [00:48<00:00,  2.41s/it]\n"
          ]
        },
        {
          "output_type": "stream",
          "name": "stdout",
          "text": [
            "Train Loss: 0.0124, Val Loss: 0.0122\n"
          ]
        },
        {
          "output_type": "stream",
          "name": "stderr",
          "text": [
            "Epoch 3/5: 100%|██████████| 20/20 [00:48<00:00,  2.42s/it]\n"
          ]
        },
        {
          "output_type": "stream",
          "name": "stdout",
          "text": [
            "Train Loss: 0.0115, Val Loss: 0.0118\n"
          ]
        },
        {
          "output_type": "stream",
          "name": "stderr",
          "text": [
            "Epoch 4/5: 100%|██████████| 20/20 [00:48<00:00,  2.42s/it]\n"
          ]
        },
        {
          "output_type": "stream",
          "name": "stdout",
          "text": [
            "Train Loss: 0.0111, Val Loss: 0.0116\n"
          ]
        },
        {
          "output_type": "stream",
          "name": "stderr",
          "text": [
            "Epoch 5/5: 100%|██████████| 20/20 [00:48<00:00,  2.42s/it]\n"
          ]
        },
        {
          "output_type": "stream",
          "name": "stdout",
          "text": [
            "Train Loss: 0.0107, Val Loss: 0.0114\n",
            "Test loss: 0.0124\n",
            "Test Mean Squared Error: 0.0127\n"
          ]
        },
        {
          "output_type": "stream",
          "name": "stderr",
          "text": [
            "/usr/local/lib/python3.11/dist-packages/transformers/optimization.py:591: FutureWarning: This implementation of AdamW is deprecated and will be removed in a future version. Use the PyTorch implementation torch.optim.AdamW instead, or set `no_deprecation_warning=True` to disable this warning\n",
            "  warnings.warn(\n",
            "Epoch 1/5: 100%|██████████| 20/20 [00:48<00:00,  2.41s/it]\n"
          ]
        },
        {
          "output_type": "stream",
          "name": "stdout",
          "text": [
            "Train Loss: 0.0165, Val Loss: 0.0125\n"
          ]
        },
        {
          "output_type": "stream",
          "name": "stderr",
          "text": [
            "Epoch 2/5: 100%|██████████| 20/20 [00:48<00:00,  2.42s/it]\n"
          ]
        },
        {
          "output_type": "stream",
          "name": "stdout",
          "text": [
            "Train Loss: 0.0122, Val Loss: 0.0118\n"
          ]
        },
        {
          "output_type": "stream",
          "name": "stderr",
          "text": [
            "Epoch 3/5: 100%|██████████| 20/20 [00:48<00:00,  2.42s/it]\n"
          ]
        },
        {
          "output_type": "stream",
          "name": "stdout",
          "text": [
            "Train Loss: 0.0115, Val Loss: 0.0115\n"
          ]
        },
        {
          "output_type": "stream",
          "name": "stderr",
          "text": [
            "Epoch 4/5: 100%|██████████| 20/20 [00:48<00:00,  2.42s/it]\n"
          ]
        },
        {
          "output_type": "stream",
          "name": "stdout",
          "text": [
            "Train Loss: 0.0111, Val Loss: 0.0111\n"
          ]
        },
        {
          "output_type": "stream",
          "name": "stderr",
          "text": [
            "Epoch 5/5: 100%|██████████| 20/20 [00:48<00:00,  2.42s/it]\n"
          ]
        },
        {
          "output_type": "stream",
          "name": "stdout",
          "text": [
            "Train Loss: 0.0105, Val Loss: 0.0108\n",
            "Test loss: 0.0115\n",
            "Test Mean Squared Error: 0.0118\n"
          ]
        },
        {
          "output_type": "stream",
          "name": "stderr",
          "text": [
            "/usr/local/lib/python3.11/dist-packages/transformers/optimization.py:591: FutureWarning: This implementation of AdamW is deprecated and will be removed in a future version. Use the PyTorch implementation torch.optim.AdamW instead, or set `no_deprecation_warning=True` to disable this warning\n",
            "  warnings.warn(\n",
            "Epoch 1/5: 100%|██████████| 20/20 [00:48<00:00,  2.42s/it]\n"
          ]
        },
        {
          "output_type": "stream",
          "name": "stdout",
          "text": [
            "Train Loss: 0.0477, Val Loss: 0.0191\n"
          ]
        },
        {
          "output_type": "stream",
          "name": "stderr",
          "text": [
            "Epoch 2/5: 100%|██████████| 20/20 [00:48<00:00,  2.42s/it]\n"
          ]
        },
        {
          "output_type": "stream",
          "name": "stdout",
          "text": [
            "Train Loss: 0.0138, Val Loss: 0.0123\n"
          ]
        },
        {
          "output_type": "stream",
          "name": "stderr",
          "text": [
            "Epoch 3/5: 100%|██████████| 20/20 [00:48<00:00,  2.42s/it]\n"
          ]
        },
        {
          "output_type": "stream",
          "name": "stdout",
          "text": [
            "Train Loss: 0.0116, Val Loss: 0.0118\n"
          ]
        },
        {
          "output_type": "stream",
          "name": "stderr",
          "text": [
            "Epoch 4/5: 100%|██████████| 20/20 [00:48<00:00,  2.42s/it]\n"
          ]
        },
        {
          "output_type": "stream",
          "name": "stdout",
          "text": [
            "Train Loss: 0.0111, Val Loss: 0.0116\n"
          ]
        },
        {
          "output_type": "stream",
          "name": "stderr",
          "text": [
            "Epoch 5/5: 100%|██████████| 20/20 [00:48<00:00,  2.42s/it]\n"
          ]
        },
        {
          "output_type": "stream",
          "name": "stdout",
          "text": [
            "Train Loss: 0.0110, Val Loss: 0.0113\n",
            "Test loss: 0.0123\n",
            "Test Mean Squared Error: 0.0126\n"
          ]
        },
        {
          "output_type": "execute_result",
          "data": {
            "text/plain": [
              "'\\n  End Task 4\\n'"
            ],
            "application/vnd.google.colaboratory.intrinsic+json": {
              "type": "string"
            }
          },
          "metadata": {},
          "execution_count": 53
        }
      ],
      "source": [
        "RERUNS = 3\n",
        "# We may save each model to a list\n",
        "# trained_models = list()\n",
        "# We save the predictions of each model to the list\n",
        "all_model_preds = list()\n",
        "\n",
        "\n",
        "for i in range(RERUNS):\n",
        "\n",
        "    set_random_seed(seed=random.randint(0, 500))\n",
        "\n",
        "    \"\"\"\n",
        "    Task 4\n",
        "\n",
        "    Begin\n",
        "    \"\"\"\n",
        "    model = BERTRegressionModel().to(device)\n",
        "\n",
        "    #train the model\n",
        "    train_model(model, train_loader, dev_loader, device)\n",
        "\n",
        "    # evaluate on test set and store predictions\n",
        "    preds, _ = evaluate_model(model, test_loader, device)\n",
        "    all_model_preds.append(preds)\n",
        "\n",
        "# Convert list to numpy array for easy averaging\n",
        "all_model_preds = np.array(all_model_preds)  # Shape: (3, num_samples)\n",
        "\n",
        "# Compute the mean prediction across all models\n",
        "ensemble_preds = np.mean(all_model_preds, axis=0)\n",
        "\n",
        "# Evaluate ensemble performance\n",
        "test_targets = np.array(test_targets)  # Ensure test targets are in correct format\n",
        "ensemble_mse = mean_squared_error(test_targets, ensemble_preds)\n",
        "\n",
        "\n",
        "\n",
        "\"\"\"\n",
        "  End Task 4\n",
        "\"\"\"\n",
        "\n"
      ]
    },
    {
      "cell_type": "code",
      "execution_count": 54,
      "metadata": {
        "id": "Zzm8Afa1wz7i",
        "colab": {
          "base_uri": "https://localhost:8080/"
        },
        "outputId": "13b6eddd-884c-4fd6-cc0d-fee295c09fe4"
      },
      "outputs": [
        {
          "output_type": "stream",
          "name": "stdout",
          "text": [
            "Ensemble Test MSE : 0.0122\n"
          ]
        }
      ],
      "source": [
        "from sklearn.metrics import classification_report, mean_squared_error\n",
        "\n",
        "mean_preds = np.mean(np.array(all_model_preds), axis=0)\n",
        "ensemble_mse = mean_squared_error(test_targets, mean_preds)\n",
        "\n",
        "print('Ensemble Test MSE : {:.4f}'.format(ensemble_mse))"
      ]
    },
    {
      "cell_type": "markdown",
      "metadata": {
        "id": "UNa2mwVBRzYq"
      },
      "source": [
        "Your results may be different depending on the implementation but typically ensembling slightly improves the performance for this task."
      ]
    },
    {
      "cell_type": "markdown",
      "metadata": {
        "id": "IL2QN-k32OSj"
      },
      "source": [
        "# Multi-task Learning with BERT\n",
        "\n",
        "**Task 5: Train a multi-task (MTL) model with the additional regression task of predicting the offense rating. The code to fetch these data is provided below. Comment on the resulting performance for the two models (single-task from task 1 and MTL).**\n",
        "\n",
        "*Hint*: The MTL model will have two identical output layers (one for predicting humour rating, the other to predict offense rating). The layers need to be concatenated before applying the loss fuctions."
      ]
    },
    {
      "cell_type": "code",
      "source": [
        "import gc\n",
        "if 'model' in locals():\n",
        "  del model\n",
        "gc.collect()\n",
        "with torch.no_grad():\n",
        "    torch.cuda.empty_cache()"
      ],
      "metadata": {
        "id": "yQotezhkuuWw"
      },
      "execution_count": 55,
      "outputs": []
    },
    {
      "cell_type": "code",
      "execution_count": 56,
      "metadata": {
        "id": "eV5DB1QTSRLm"
      },
      "outputs": [],
      "source": [
        "set_random_seed()\n",
        "\n",
        "class BertMultitaskModel(nn.Module):\n",
        "    \"\"\"\n",
        "    Task 5\n",
        "\n",
        "    Begin\n",
        "    \"\"\"\n",
        "    def __init__(self, pad_length=128):\n",
        "        super(BertMultitaskModel, self).__init__()\n",
        "        self.bert = DistilBertModel.from_pretrained('distilbert-base-uncased')\n",
        "        self.global_avg_pool = GlobalAveragePooling1DMasked()\n",
        "\n",
        "        #shared hidden layer\n",
        "        self.hidden_layer = nn.Linear(self.bert.config.hidden_size, 16)\n",
        "        self.activation = nn.Sigmoid()\n",
        "\n",
        "        # two output layers: one for humor and one for offense\n",
        "        self.output_humor = nn.Linear(16, 1)\n",
        "        self.output_offense = nn.Linear(16, 1)\n",
        "\n",
        "\n",
        "    def forward(self, input_ids, attention_mask):\n",
        "        #extract BERT embeddings\n",
        "        outputs = self.bert(input_ids=input_ids, attention_mask=attention_mask)\n",
        "        last_hidden_state = outputs.last_hidden_state\n",
        "\n",
        "        #global average pooling\n",
        "        pooled_output = self.global_avg_pool(last_hidden_state, attention_mask)\n",
        "\n",
        "        #shared hidden layer\n",
        "        hidden_output = self.hidden_layer(pooled_output)\n",
        "        activated_output = self.activation(hidden_output)\n",
        "\n",
        "        #outputs for humor and offense ratings\n",
        "        out_reg1 = self.output_humor(activated_output)\n",
        "        out_reg2 = self.output_offense(activated_output)\n",
        "\n",
        "        #concatenate outputs\n",
        "        return torch.cat([out_reg1, out_reg2], dim=1)\n",
        "    \"\"\"\n",
        "    End Task 5\n",
        "    \"\"\""
      ]
    },
    {
      "cell_type": "code",
      "execution_count": 57,
      "metadata": {
        "id": "Lfci4A85inT2"
      },
      "outputs": [],
      "source": [
        "model = BertMultitaskModel(pad_length=PAD_LENGTH).to(device)\n"
      ]
    },
    {
      "cell_type": "code",
      "execution_count": 58,
      "metadata": {
        "id": "-XQqz3Gr2ZkG",
        "colab": {
          "base_uri": "https://localhost:8080/"
        },
        "outputId": "8099c4d3-143b-46a3-b806-826da6ffe819"
      },
      "outputs": [
        {
          "output_type": "stream",
          "name": "stderr",
          "text": [
            "/usr/local/lib/python3.11/dist-packages/transformers/tokenization_utils_base.py:2681: FutureWarning: The `pad_to_max_length` argument is deprecated and will be removed in a future version, use `padding=True` or `padding='longest'` to pad to the longest sequence in the batch, or use `padding='max_length'` to pad to a max length. In this case, you can give a specific length with `max_length` (e.g. `max_length=45`) or leave max_length to None to pad to the maximal input size of the model (e.g. 512 for Bert).\n",
            "  warnings.warn(\n"
          ]
        }
      ],
      "source": [
        "train_examples_list = train_df['text'].tolist()\n",
        "train_targets_list = (train_df['humor_rating']/5).tolist()\n",
        "\n",
        "train_input_ids, train_attention_masks, train_targets = get_bert_inputs(train_examples_list, train_targets_list)\n",
        "\n",
        "# Get the offense ratings for the second regression task (we normalise them as well)\n",
        "train_targets2_list = (train_df['offense_rating']/5).tolist()\n",
        "dev_targets2_list = (dev_df['offense_rating']/5).tolist()\n",
        "test_targets2_list = (test_df['offense_rating']/5).tolist()\n",
        "\n",
        "train_targets2 = np.array(train_targets2_list)\n",
        "dev_targets2 = np.array(dev_targets2_list)\n",
        "test_targets2 = np.array(test_targets2_list)\n",
        "\n",
        "# Prepare DataLoader\n",
        "train_targets_mix = [[i[0],i[1]] for i in zip(train_targets,train_targets2)]\n",
        "train_dataset = HumorDataset(train_input_ids, train_attention_masks, train_targets_mix)\n",
        "train_loader = DataLoader(train_dataset, batch_size=BATCH_SIZE, shuffle=True)\n",
        "dev_targets_mix = [[i[0],i[1]] for i in zip(dev_targets,dev_targets2)]\n",
        "dev_dataset = HumorDataset(dev_input_ids, dev_attention_masks, dev_targets_mix)\n",
        "dev_loader = DataLoader(dev_dataset, batch_size=BATCH_SIZE)\n",
        "test_targets_mix = [[i[0],i[1]] for i in zip(test_targets,test_targets2)]\n",
        "test_dataset = HumorDataset(test_input_ids, test_attention_masks, test_targets_mix)\n",
        "test_loader = DataLoader(test_dataset, batch_size=BATCH_SIZE)"
      ]
    },
    {
      "cell_type": "code",
      "execution_count": 59,
      "metadata": {
        "id": "PX7fEExQZ8tE",
        "colab": {
          "base_uri": "https://localhost:8080/"
        },
        "outputId": "b1a8d52c-78db-4d36-e088-61f32ba852d6"
      },
      "outputs": [
        {
          "output_type": "stream",
          "name": "stderr",
          "text": [
            "/usr/local/lib/python3.11/dist-packages/transformers/optimization.py:591: FutureWarning: This implementation of AdamW is deprecated and will be removed in a future version. Use the PyTorch implementation torch.optim.AdamW instead, or set `no_deprecation_warning=True` to disable this warning\n",
            "  warnings.warn(\n",
            "Epoch 1/5: 100%|██████████| 20/20 [00:49<00:00,  2.47s/it]\n"
          ]
        },
        {
          "output_type": "stream",
          "name": "stdout",
          "text": [
            "Train Loss: 0.0488, Val Loss: 0.0454\n"
          ]
        },
        {
          "output_type": "stream",
          "name": "stderr",
          "text": [
            "Epoch 2/5: 100%|██████████| 20/20 [00:48<00:00,  2.41s/it]\n"
          ]
        },
        {
          "output_type": "stream",
          "name": "stdout",
          "text": [
            "Train Loss: 0.0303, Val Loss: 0.0370\n"
          ]
        },
        {
          "output_type": "stream",
          "name": "stderr",
          "text": [
            "Epoch 3/5: 100%|██████████| 20/20 [00:48<00:00,  2.42s/it]\n"
          ]
        },
        {
          "output_type": "stream",
          "name": "stdout",
          "text": [
            "Train Loss: 0.0250, Val Loss: 0.0282\n"
          ]
        },
        {
          "output_type": "stream",
          "name": "stderr",
          "text": [
            "Epoch 4/5: 100%|██████████| 20/20 [00:48<00:00,  2.42s/it]\n"
          ]
        },
        {
          "output_type": "stream",
          "name": "stdout",
          "text": [
            "Train Loss: 0.0191, Val Loss: 0.0217\n"
          ]
        },
        {
          "output_type": "stream",
          "name": "stderr",
          "text": [
            "Epoch 5/5: 100%|██████████| 20/20 [00:48<00:00,  2.42s/it]\n"
          ]
        },
        {
          "output_type": "stream",
          "name": "stdout",
          "text": [
            "Train Loss: 0.0160, Val Loss: 0.0201\n"
          ]
        }
      ],
      "source": [
        "# Instantiate model and train\n",
        "train_model(model, train_loader, dev_loader, device)"
      ]
    },
    {
      "cell_type": "code",
      "execution_count": 60,
      "metadata": {
        "id": "UiJg_LlqaRPp",
        "colab": {
          "base_uri": "https://localhost:8080/"
        },
        "outputId": "21c5694d-46d2-4d89-aba4-45f2c9fb66da"
      },
      "outputs": [
        {
          "output_type": "stream",
          "name": "stdout",
          "text": [
            "Test loss: 0.0130\n",
            "Test Mean Squared Error: 0.0133\n"
          ]
        }
      ],
      "source": [
        "preds, test_targets = evaluate_model(model, test_loader, device, multi_task=True)"
      ]
    },
    {
      "cell_type": "markdown",
      "metadata": {
        "id": "ARRZiV9Ga79g"
      },
      "source": [
        "Your results may be different depending on the implementation but typically MTL slightly improves the performance over the single-task model trained in similar conditions."
      ]
    }
  ],
  "metadata": {
    "accelerator": "GPU",
    "colab": {
      "provenance": [],
      "gpuType": "T4",
      "machine_shape": "hm"
    },
    "kernelspec": {
      "display_name": "Python 3",
      "name": "python3"
    },
    "language_info": {
      "codemirror_mode": {
        "name": "ipython",
        "version": 3
      },
      "file_extension": ".py",
      "mimetype": "text/x-python",
      "name": "python",
      "nbconvert_exporter": "python",
      "pygments_lexer": "ipython3",
      "version": "3.7.1"
    },
    "widgets": {
      "application/vnd.jupyter.widget-state+json": {
        "8eb5ec9a934d4b46951ff6b0048d2b12": {
          "model_module": "@jupyter-widgets/controls",
          "model_name": "HBoxModel",
          "model_module_version": "1.5.0",
          "state": {
            "_dom_classes": [],
            "_model_module": "@jupyter-widgets/controls",
            "_model_module_version": "1.5.0",
            "_model_name": "HBoxModel",
            "_view_count": null,
            "_view_module": "@jupyter-widgets/controls",
            "_view_module_version": "1.5.0",
            "_view_name": "HBoxView",
            "box_style": "",
            "children": [
              "IPY_MODEL_aeaea998ed2d45cbb0dad442d0e03c50",
              "IPY_MODEL_5b4a8dc261364e35b8f57ed3ee112fcd",
              "IPY_MODEL_61a1aab1cdac470292ddb3fdc57b2b97"
            ],
            "layout": "IPY_MODEL_2818e4094ab54f3b89d886aa638c7301"
          }
        },
        "aeaea998ed2d45cbb0dad442d0e03c50": {
          "model_module": "@jupyter-widgets/controls",
          "model_name": "HTMLModel",
          "model_module_version": "1.5.0",
          "state": {
            "_dom_classes": [],
            "_model_module": "@jupyter-widgets/controls",
            "_model_module_version": "1.5.0",
            "_model_name": "HTMLModel",
            "_view_count": null,
            "_view_module": "@jupyter-widgets/controls",
            "_view_module_version": "1.5.0",
            "_view_name": "HTMLView",
            "description": "",
            "description_tooltip": null,
            "layout": "IPY_MODEL_db7a6e0b421a47ecb503dd53bb400f03",
            "placeholder": "​",
            "style": "IPY_MODEL_ddf139ddec074c5da4fa7fdb2bdb73d4",
            "value": "model.safetensors: 100%"
          }
        },
        "5b4a8dc261364e35b8f57ed3ee112fcd": {
          "model_module": "@jupyter-widgets/controls",
          "model_name": "FloatProgressModel",
          "model_module_version": "1.5.0",
          "state": {
            "_dom_classes": [],
            "_model_module": "@jupyter-widgets/controls",
            "_model_module_version": "1.5.0",
            "_model_name": "FloatProgressModel",
            "_view_count": null,
            "_view_module": "@jupyter-widgets/controls",
            "_view_module_version": "1.5.0",
            "_view_name": "ProgressView",
            "bar_style": "success",
            "description": "",
            "description_tooltip": null,
            "layout": "IPY_MODEL_72e469b8e8664baba1380f5e92a21759",
            "max": 267954768,
            "min": 0,
            "orientation": "horizontal",
            "style": "IPY_MODEL_f43c2139accc43368091d9226644d99f",
            "value": 267954768
          }
        },
        "61a1aab1cdac470292ddb3fdc57b2b97": {
          "model_module": "@jupyter-widgets/controls",
          "model_name": "HTMLModel",
          "model_module_version": "1.5.0",
          "state": {
            "_dom_classes": [],
            "_model_module": "@jupyter-widgets/controls",
            "_model_module_version": "1.5.0",
            "_model_name": "HTMLModel",
            "_view_count": null,
            "_view_module": "@jupyter-widgets/controls",
            "_view_module_version": "1.5.0",
            "_view_name": "HTMLView",
            "description": "",
            "description_tooltip": null,
            "layout": "IPY_MODEL_a2d00b424fbf4993a99c098caa532a31",
            "placeholder": "​",
            "style": "IPY_MODEL_34e6db0b48154a22ae0bcd3d6cf81bb5",
            "value": " 268M/268M [00:01&lt;00:00, 186MB/s]"
          }
        },
        "2818e4094ab54f3b89d886aa638c7301": {
          "model_module": "@jupyter-widgets/base",
          "model_name": "LayoutModel",
          "model_module_version": "1.2.0",
          "state": {
            "_model_module": "@jupyter-widgets/base",
            "_model_module_version": "1.2.0",
            "_model_name": "LayoutModel",
            "_view_count": null,
            "_view_module": "@jupyter-widgets/base",
            "_view_module_version": "1.2.0",
            "_view_name": "LayoutView",
            "align_content": null,
            "align_items": null,
            "align_self": null,
            "border": null,
            "bottom": null,
            "display": null,
            "flex": null,
            "flex_flow": null,
            "grid_area": null,
            "grid_auto_columns": null,
            "grid_auto_flow": null,
            "grid_auto_rows": null,
            "grid_column": null,
            "grid_gap": null,
            "grid_row": null,
            "grid_template_areas": null,
            "grid_template_columns": null,
            "grid_template_rows": null,
            "height": null,
            "justify_content": null,
            "justify_items": null,
            "left": null,
            "margin": null,
            "max_height": null,
            "max_width": null,
            "min_height": null,
            "min_width": null,
            "object_fit": null,
            "object_position": null,
            "order": null,
            "overflow": null,
            "overflow_x": null,
            "overflow_y": null,
            "padding": null,
            "right": null,
            "top": null,
            "visibility": null,
            "width": null
          }
        },
        "db7a6e0b421a47ecb503dd53bb400f03": {
          "model_module": "@jupyter-widgets/base",
          "model_name": "LayoutModel",
          "model_module_version": "1.2.0",
          "state": {
            "_model_module": "@jupyter-widgets/base",
            "_model_module_version": "1.2.0",
            "_model_name": "LayoutModel",
            "_view_count": null,
            "_view_module": "@jupyter-widgets/base",
            "_view_module_version": "1.2.0",
            "_view_name": "LayoutView",
            "align_content": null,
            "align_items": null,
            "align_self": null,
            "border": null,
            "bottom": null,
            "display": null,
            "flex": null,
            "flex_flow": null,
            "grid_area": null,
            "grid_auto_columns": null,
            "grid_auto_flow": null,
            "grid_auto_rows": null,
            "grid_column": null,
            "grid_gap": null,
            "grid_row": null,
            "grid_template_areas": null,
            "grid_template_columns": null,
            "grid_template_rows": null,
            "height": null,
            "justify_content": null,
            "justify_items": null,
            "left": null,
            "margin": null,
            "max_height": null,
            "max_width": null,
            "min_height": null,
            "min_width": null,
            "object_fit": null,
            "object_position": null,
            "order": null,
            "overflow": null,
            "overflow_x": null,
            "overflow_y": null,
            "padding": null,
            "right": null,
            "top": null,
            "visibility": null,
            "width": null
          }
        },
        "ddf139ddec074c5da4fa7fdb2bdb73d4": {
          "model_module": "@jupyter-widgets/controls",
          "model_name": "DescriptionStyleModel",
          "model_module_version": "1.5.0",
          "state": {
            "_model_module": "@jupyter-widgets/controls",
            "_model_module_version": "1.5.0",
            "_model_name": "DescriptionStyleModel",
            "_view_count": null,
            "_view_module": "@jupyter-widgets/base",
            "_view_module_version": "1.2.0",
            "_view_name": "StyleView",
            "description_width": ""
          }
        },
        "72e469b8e8664baba1380f5e92a21759": {
          "model_module": "@jupyter-widgets/base",
          "model_name": "LayoutModel",
          "model_module_version": "1.2.0",
          "state": {
            "_model_module": "@jupyter-widgets/base",
            "_model_module_version": "1.2.0",
            "_model_name": "LayoutModel",
            "_view_count": null,
            "_view_module": "@jupyter-widgets/base",
            "_view_module_version": "1.2.0",
            "_view_name": "LayoutView",
            "align_content": null,
            "align_items": null,
            "align_self": null,
            "border": null,
            "bottom": null,
            "display": null,
            "flex": null,
            "flex_flow": null,
            "grid_area": null,
            "grid_auto_columns": null,
            "grid_auto_flow": null,
            "grid_auto_rows": null,
            "grid_column": null,
            "grid_gap": null,
            "grid_row": null,
            "grid_template_areas": null,
            "grid_template_columns": null,
            "grid_template_rows": null,
            "height": null,
            "justify_content": null,
            "justify_items": null,
            "left": null,
            "margin": null,
            "max_height": null,
            "max_width": null,
            "min_height": null,
            "min_width": null,
            "object_fit": null,
            "object_position": null,
            "order": null,
            "overflow": null,
            "overflow_x": null,
            "overflow_y": null,
            "padding": null,
            "right": null,
            "top": null,
            "visibility": null,
            "width": null
          }
        },
        "f43c2139accc43368091d9226644d99f": {
          "model_module": "@jupyter-widgets/controls",
          "model_name": "ProgressStyleModel",
          "model_module_version": "1.5.0",
          "state": {
            "_model_module": "@jupyter-widgets/controls",
            "_model_module_version": "1.5.0",
            "_model_name": "ProgressStyleModel",
            "_view_count": null,
            "_view_module": "@jupyter-widgets/base",
            "_view_module_version": "1.2.0",
            "_view_name": "StyleView",
            "bar_color": null,
            "description_width": ""
          }
        },
        "a2d00b424fbf4993a99c098caa532a31": {
          "model_module": "@jupyter-widgets/base",
          "model_name": "LayoutModel",
          "model_module_version": "1.2.0",
          "state": {
            "_model_module": "@jupyter-widgets/base",
            "_model_module_version": "1.2.0",
            "_model_name": "LayoutModel",
            "_view_count": null,
            "_view_module": "@jupyter-widgets/base",
            "_view_module_version": "1.2.0",
            "_view_name": "LayoutView",
            "align_content": null,
            "align_items": null,
            "align_self": null,
            "border": null,
            "bottom": null,
            "display": null,
            "flex": null,
            "flex_flow": null,
            "grid_area": null,
            "grid_auto_columns": null,
            "grid_auto_flow": null,
            "grid_auto_rows": null,
            "grid_column": null,
            "grid_gap": null,
            "grid_row": null,
            "grid_template_areas": null,
            "grid_template_columns": null,
            "grid_template_rows": null,
            "height": null,
            "justify_content": null,
            "justify_items": null,
            "left": null,
            "margin": null,
            "max_height": null,
            "max_width": null,
            "min_height": null,
            "min_width": null,
            "object_fit": null,
            "object_position": null,
            "order": null,
            "overflow": null,
            "overflow_x": null,
            "overflow_y": null,
            "padding": null,
            "right": null,
            "top": null,
            "visibility": null,
            "width": null
          }
        },
        "34e6db0b48154a22ae0bcd3d6cf81bb5": {
          "model_module": "@jupyter-widgets/controls",
          "model_name": "DescriptionStyleModel",
          "model_module_version": "1.5.0",
          "state": {
            "_model_module": "@jupyter-widgets/controls",
            "_model_module_version": "1.5.0",
            "_model_name": "DescriptionStyleModel",
            "_view_count": null,
            "_view_module": "@jupyter-widgets/base",
            "_view_module_version": "1.2.0",
            "_view_name": "StyleView",
            "description_width": ""
          }
        }
      }
    }
  },
  "nbformat": 4,
  "nbformat_minor": 0
}